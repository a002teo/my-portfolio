{
 "cells": [
  {
   "cell_type": "markdown",
   "id": "e06910dd",
   "metadata": {
    "id": "e06910dd"
   },
   "source": [
    "# Напишите заголовок проекта здесь\n",
    "\n",
    "- Автор:Кенжебеков Санат da_123\n",
    "- Дата:09.07.25"
   ]
  },
  {
   "cell_type": "markdown",
   "id": "4149134c",
   "metadata": {
    "id": "4149134c"
   },
   "source": [
    "### Цели и задачи проекта\n",
    "\n",
    "<font color='#777778'>Перечислите цель проекта и задачи, которые вы решаете. Для этого можно использовать описание проекта, но полезнее будет сформулировать основную цель проекта самостоятельно.\n",
    "    \n",
    "В этой тетрадке используем датасет `/datasets/new_games.csv`, который содержит информацию о продажах игр разных жанров и платформ, а также пользовательские и экспертные оценки игр. \n",
    "    Познакомимся с данными, сделаем вывод о полученных данных: данные какого объёма нам предоставили, соответствуют ли они описанию, встречаются ли в них пропуски, используются ли верные типы данных. Отметим другие особенности данных, которые мы обнаружим и на которые стоит обратить внимание при предобработке.\n",
    "    Проведем фильтрацию данных в период с 2000 по 2013 год включительно, т.к. именно за этот период коллеги хотят изучить историю продаж игр. \n",
    "    Проведем категоризацию данных:\n",
    "    - Разделим все игры по оценкам пользователей и выделите такие категории: высокая оценка (от 8 до 10 включительно), средняя оценка (от 3 до 8, не включая правую границу интервала) и низкая оценка (от 0 до 3, не включая правую границу интервала).\n",
    "    - Разделим все игры по оценкам критиков и выделите такие категории: высокая оценка (от 80 до 100 включительно), средняя оценка (от 30 до 80, не включая правую границу интервала) и низкая оценка (от 0 до 30, не включая правую границу интервала).\n",
    "    - Выделим топ-7 платформ по количеству игр, выпущенных за весь требуемый период.\n",
    "</font>"
   ]
  },
  {
   "cell_type": "markdown",
   "id": "728986ea",
   "metadata": {
    "id": "728986ea"
   },
   "source": [
    "### Описание данных\n",
    "\n",
    "<font color='#777778'>Данные /datasets/new_games.csv содержат информацию о продажах игр разных жанров и платформ, а также пользовательские и экспертные оценки игр:\n",
    "- Name — название игры.\n",
    "- Platform — название платформы.\n",
    "- Year of Release — год выпуска игры.\n",
    "- Genre — жанр игры.\n",
    "- NA sales — продажи в Северной Америке (в миллионах проданных копий).\n",
    "- EU sales — продажи в Европе (в миллионах проданных копий).\n",
    "- JP sales — продажи в Японии (в миллионах проданных копий).\n",
    "- Other sales — продажи в других странах (в миллионах проданных копий).\n",
    "- Critic Score — оценка критиков (от 0 до 100).\n",
    "- User Score — оценка пользователей (от 0 до 10).\n",
    "- Rating — рейтинг организации ESRB (англ. Entertainment Software Rating Board). Эта ассоциация определяет рейтинг компьютерных игр и присваивает им подходящую возрастную категорию.</font>"
   ]
  },
  {
   "cell_type": "markdown",
   "id": "4fecaf95",
   "metadata": {
    "id": "4fecaf95"
   },
   "source": [
    "### Содержимое проекта\n",
    "\n",
    "<font color='#777778'>\n",
    "- 1. Загрузка и знакомство с данными\n",
    "- 2. Поиск пропущенных значений\n",
    "- 3. Корректировка типа данных\n",
    "- 4. Фильтрация данных\n",
    "- 5. Категоризация данных\n",
    "</font>\n",
    "\n",
    "---"
   ]
  },
  {
   "cell_type": "markdown",
   "id": "6f7d21d6",
   "metadata": {
    "id": "6f7d21d6"
   },
   "source": [
    "## 1. Загрузка данных и знакомство с ними\n",
    "\n",
    "- Загрузите необходимые библиотеки Python и данные датасета `/datasets/new_games.csv`.\n"
   ]
  },
  {
   "cell_type": "code",
   "execution_count": 1,
   "id": "ebb66dc5",
   "metadata": {
    "id": "ebb66dc5"
   },
   "outputs": [],
   "source": [
    "# Пустые ячейки после каждого задания — примерное пространство для работы.\n",
    "# Вы можете свободно добавлять или удалять ячейки по своему усмотрению в зависимости от логики и объёма работы.\n",
    "# Импортируем библиотеку pandas\n",
    "import pandas as pd"
   ]
  },
  {
   "cell_type": "code",
   "execution_count": 2,
   "id": "ce87c1db",
   "metadata": {
    "id": "ce87c1db"
   },
   "outputs": [],
   "source": [
    "# Выгружаем данные из датасета new_games.csv в датафрейм games\n",
    "games = pd.read_csv('https://code.s3.yandex.net/datasets/new_games.csv')"
   ]
  },
  {
   "cell_type": "markdown",
   "id": "e0a8705f",
   "metadata": {
    "id": "e0a8705f"
   },
   "source": [
    "- Познакомьтесь с данными: выведите первые строки и результат метода `info()`.\n"
   ]
  },
  {
   "cell_type": "code",
   "execution_count": 3,
   "id": "3937acf7",
   "metadata": {
    "id": "3937acf7"
   },
   "outputs": [
    {
     "name": "stdout",
     "output_type": "stream",
     "text": [
      "<class 'pandas.core.frame.DataFrame'>\n",
      "RangeIndex: 16956 entries, 0 to 16955\n",
      "Data columns (total 11 columns):\n",
      " #   Column           Non-Null Count  Dtype  \n",
      "---  ------           --------------  -----  \n",
      " 0   Name             16954 non-null  object \n",
      " 1   Platform         16956 non-null  object \n",
      " 2   Year of Release  16681 non-null  float64\n",
      " 3   Genre            16954 non-null  object \n",
      " 4   NA sales         16956 non-null  float64\n",
      " 5   EU sales         16956 non-null  object \n",
      " 6   JP sales         16956 non-null  object \n",
      " 7   Other sales      16956 non-null  float64\n",
      " 8   Critic Score     8242 non-null   float64\n",
      " 9   User Score       10152 non-null  object \n",
      " 10  Rating           10085 non-null  object \n",
      "dtypes: float64(4), object(7)\n",
      "memory usage: 1.4+ MB\n"
     ]
    }
   ],
   "source": [
    "# Выводим информацию о датафрейме\n",
    "games.info()"
   ]
  },
  {
   "cell_type": "code",
   "execution_count": 4,
   "id": "d7c8eb4b",
   "metadata": {
    "id": "d7c8eb4b"
   },
   "outputs": [
    {
     "data": {
      "text/html": [
       "<div>\n",
       "<style scoped>\n",
       "    .dataframe tbody tr th:only-of-type {\n",
       "        vertical-align: middle;\n",
       "    }\n",
       "\n",
       "    .dataframe tbody tr th {\n",
       "        vertical-align: top;\n",
       "    }\n",
       "\n",
       "    .dataframe thead th {\n",
       "        text-align: right;\n",
       "    }\n",
       "</style>\n",
       "<table border=\"1\" class=\"dataframe\">\n",
       "  <thead>\n",
       "    <tr style=\"text-align: right;\">\n",
       "      <th></th>\n",
       "      <th>Name</th>\n",
       "      <th>Platform</th>\n",
       "      <th>Year of Release</th>\n",
       "      <th>Genre</th>\n",
       "      <th>NA sales</th>\n",
       "      <th>EU sales</th>\n",
       "      <th>JP sales</th>\n",
       "      <th>Other sales</th>\n",
       "      <th>Critic Score</th>\n",
       "      <th>User Score</th>\n",
       "      <th>Rating</th>\n",
       "    </tr>\n",
       "  </thead>\n",
       "  <tbody>\n",
       "    <tr>\n",
       "      <th>0</th>\n",
       "      <td>Wii Sports</td>\n",
       "      <td>Wii</td>\n",
       "      <td>2006.0</td>\n",
       "      <td>Sports</td>\n",
       "      <td>41.36</td>\n",
       "      <td>28.96</td>\n",
       "      <td>3.77</td>\n",
       "      <td>8.45</td>\n",
       "      <td>76.0</td>\n",
       "      <td>8</td>\n",
       "      <td>E</td>\n",
       "    </tr>\n",
       "    <tr>\n",
       "      <th>1</th>\n",
       "      <td>Super Mario Bros.</td>\n",
       "      <td>NES</td>\n",
       "      <td>1985.0</td>\n",
       "      <td>Platform</td>\n",
       "      <td>29.08</td>\n",
       "      <td>3.58</td>\n",
       "      <td>6.81</td>\n",
       "      <td>0.77</td>\n",
       "      <td>NaN</td>\n",
       "      <td>NaN</td>\n",
       "      <td>NaN</td>\n",
       "    </tr>\n",
       "    <tr>\n",
       "      <th>2</th>\n",
       "      <td>Mario Kart Wii</td>\n",
       "      <td>Wii</td>\n",
       "      <td>2008.0</td>\n",
       "      <td>Racing</td>\n",
       "      <td>15.68</td>\n",
       "      <td>12.76</td>\n",
       "      <td>3.79</td>\n",
       "      <td>3.29</td>\n",
       "      <td>82.0</td>\n",
       "      <td>8.3</td>\n",
       "      <td>E</td>\n",
       "    </tr>\n",
       "    <tr>\n",
       "      <th>3</th>\n",
       "      <td>Wii Sports Resort</td>\n",
       "      <td>Wii</td>\n",
       "      <td>2009.0</td>\n",
       "      <td>Sports</td>\n",
       "      <td>15.61</td>\n",
       "      <td>10.93</td>\n",
       "      <td>3.28</td>\n",
       "      <td>2.95</td>\n",
       "      <td>80.0</td>\n",
       "      <td>8</td>\n",
       "      <td>E</td>\n",
       "    </tr>\n",
       "    <tr>\n",
       "      <th>4</th>\n",
       "      <td>Pokemon Red/Pokemon Blue</td>\n",
       "      <td>GB</td>\n",
       "      <td>1996.0</td>\n",
       "      <td>Role-Playing</td>\n",
       "      <td>11.27</td>\n",
       "      <td>8.89</td>\n",
       "      <td>10.22</td>\n",
       "      <td>1.00</td>\n",
       "      <td>NaN</td>\n",
       "      <td>NaN</td>\n",
       "      <td>NaN</td>\n",
       "    </tr>\n",
       "    <tr>\n",
       "      <th>5</th>\n",
       "      <td>Tetris</td>\n",
       "      <td>GB</td>\n",
       "      <td>1989.0</td>\n",
       "      <td>Puzzle</td>\n",
       "      <td>23.20</td>\n",
       "      <td>2.26</td>\n",
       "      <td>4.22</td>\n",
       "      <td>0.58</td>\n",
       "      <td>NaN</td>\n",
       "      <td>NaN</td>\n",
       "      <td>NaN</td>\n",
       "    </tr>\n",
       "    <tr>\n",
       "      <th>6</th>\n",
       "      <td>New Super Mario Bros.</td>\n",
       "      <td>DS</td>\n",
       "      <td>2006.0</td>\n",
       "      <td>Platform</td>\n",
       "      <td>11.28</td>\n",
       "      <td>9.14</td>\n",
       "      <td>6.5</td>\n",
       "      <td>2.88</td>\n",
       "      <td>89.0</td>\n",
       "      <td>8.5</td>\n",
       "      <td>E</td>\n",
       "    </tr>\n",
       "    <tr>\n",
       "      <th>7</th>\n",
       "      <td>Wii Play</td>\n",
       "      <td>Wii</td>\n",
       "      <td>2006.0</td>\n",
       "      <td>Misc</td>\n",
       "      <td>13.96</td>\n",
       "      <td>9.18</td>\n",
       "      <td>2.93</td>\n",
       "      <td>2.84</td>\n",
       "      <td>58.0</td>\n",
       "      <td>6.6</td>\n",
       "      <td>E</td>\n",
       "    </tr>\n",
       "    <tr>\n",
       "      <th>8</th>\n",
       "      <td>New Super Mario Bros. Wii</td>\n",
       "      <td>Wii</td>\n",
       "      <td>2009.0</td>\n",
       "      <td>Platform</td>\n",
       "      <td>14.44</td>\n",
       "      <td>6.94</td>\n",
       "      <td>4.7</td>\n",
       "      <td>2.24</td>\n",
       "      <td>87.0</td>\n",
       "      <td>8.4</td>\n",
       "      <td>E</td>\n",
       "    </tr>\n",
       "    <tr>\n",
       "      <th>9</th>\n",
       "      <td>Duck Hunt</td>\n",
       "      <td>NES</td>\n",
       "      <td>1984.0</td>\n",
       "      <td>Shooter</td>\n",
       "      <td>26.93</td>\n",
       "      <td>0.63</td>\n",
       "      <td>0.28</td>\n",
       "      <td>0.47</td>\n",
       "      <td>NaN</td>\n",
       "      <td>NaN</td>\n",
       "      <td>NaN</td>\n",
       "    </tr>\n",
       "    <tr>\n",
       "      <th>10</th>\n",
       "      <td>Nintendogs</td>\n",
       "      <td>DS</td>\n",
       "      <td>2005.0</td>\n",
       "      <td>Simulation</td>\n",
       "      <td>9.05</td>\n",
       "      <td>10.95</td>\n",
       "      <td>1.93</td>\n",
       "      <td>2.74</td>\n",
       "      <td>NaN</td>\n",
       "      <td>NaN</td>\n",
       "      <td>NaN</td>\n",
       "    </tr>\n",
       "    <tr>\n",
       "      <th>11</th>\n",
       "      <td>Mario Kart DS</td>\n",
       "      <td>DS</td>\n",
       "      <td>2005.0</td>\n",
       "      <td>Racing</td>\n",
       "      <td>9.71</td>\n",
       "      <td>7.47</td>\n",
       "      <td>4.13</td>\n",
       "      <td>1.90</td>\n",
       "      <td>91.0</td>\n",
       "      <td>8.6</td>\n",
       "      <td>E</td>\n",
       "    </tr>\n",
       "    <tr>\n",
       "      <th>12</th>\n",
       "      <td>Pokemon Gold/Pokemon Silver</td>\n",
       "      <td>GB</td>\n",
       "      <td>1999.0</td>\n",
       "      <td>Role-Playing</td>\n",
       "      <td>9.00</td>\n",
       "      <td>6.18</td>\n",
       "      <td>7.2</td>\n",
       "      <td>0.71</td>\n",
       "      <td>NaN</td>\n",
       "      <td>NaN</td>\n",
       "      <td>NaN</td>\n",
       "    </tr>\n",
       "    <tr>\n",
       "      <th>13</th>\n",
       "      <td>Wii Fit</td>\n",
       "      <td>Wii</td>\n",
       "      <td>2007.0</td>\n",
       "      <td>Sports</td>\n",
       "      <td>8.92</td>\n",
       "      <td>8.03</td>\n",
       "      <td>3.6</td>\n",
       "      <td>2.15</td>\n",
       "      <td>80.0</td>\n",
       "      <td>7.7</td>\n",
       "      <td>E</td>\n",
       "    </tr>\n",
       "    <tr>\n",
       "      <th>14</th>\n",
       "      <td>Kinect Adventures!</td>\n",
       "      <td>X360</td>\n",
       "      <td>2010.0</td>\n",
       "      <td>Misc</td>\n",
       "      <td>15.00</td>\n",
       "      <td>4.89</td>\n",
       "      <td>0.24</td>\n",
       "      <td>1.69</td>\n",
       "      <td>61.0</td>\n",
       "      <td>6.3</td>\n",
       "      <td>E</td>\n",
       "    </tr>\n",
       "    <tr>\n",
       "      <th>15</th>\n",
       "      <td>Wii Fit Plus</td>\n",
       "      <td>Wii</td>\n",
       "      <td>2009.0</td>\n",
       "      <td>Sports</td>\n",
       "      <td>9.01</td>\n",
       "      <td>8.49</td>\n",
       "      <td>2.53</td>\n",
       "      <td>1.77</td>\n",
       "      <td>80.0</td>\n",
       "      <td>7.4</td>\n",
       "      <td>E</td>\n",
       "    </tr>\n",
       "    <tr>\n",
       "      <th>16</th>\n",
       "      <td>Grand Theft Auto V</td>\n",
       "      <td>PS3</td>\n",
       "      <td>2013.0</td>\n",
       "      <td>Action</td>\n",
       "      <td>7.02</td>\n",
       "      <td>9.09</td>\n",
       "      <td>0.98</td>\n",
       "      <td>3.96</td>\n",
       "      <td>97.0</td>\n",
       "      <td>8.2</td>\n",
       "      <td>M</td>\n",
       "    </tr>\n",
       "    <tr>\n",
       "      <th>17</th>\n",
       "      <td>Grand Theft Auto: San Andreas</td>\n",
       "      <td>PS2</td>\n",
       "      <td>2004.0</td>\n",
       "      <td>Action</td>\n",
       "      <td>9.43</td>\n",
       "      <td>0.4</td>\n",
       "      <td>0.41</td>\n",
       "      <td>10.57</td>\n",
       "      <td>95.0</td>\n",
       "      <td>9</td>\n",
       "      <td>M</td>\n",
       "    </tr>\n",
       "    <tr>\n",
       "      <th>18</th>\n",
       "      <td>Super Mario World</td>\n",
       "      <td>SNES</td>\n",
       "      <td>1990.0</td>\n",
       "      <td>Platform</td>\n",
       "      <td>12.78</td>\n",
       "      <td>3.75</td>\n",
       "      <td>3.54</td>\n",
       "      <td>0.55</td>\n",
       "      <td>NaN</td>\n",
       "      <td>NaN</td>\n",
       "      <td>NaN</td>\n",
       "    </tr>\n",
       "    <tr>\n",
       "      <th>19</th>\n",
       "      <td>Brain Age: Train Your Brain in Minutes a Day</td>\n",
       "      <td>DS</td>\n",
       "      <td>2005.0</td>\n",
       "      <td>Misc</td>\n",
       "      <td>4.74</td>\n",
       "      <td>9.2</td>\n",
       "      <td>4.16</td>\n",
       "      <td>2.04</td>\n",
       "      <td>77.0</td>\n",
       "      <td>7.9</td>\n",
       "      <td>E</td>\n",
       "    </tr>\n",
       "  </tbody>\n",
       "</table>\n",
       "</div>"
      ],
      "text/plain": [
       "                                            Name Platform  Year of Release  \\\n",
       "0                                     Wii Sports      Wii           2006.0   \n",
       "1                              Super Mario Bros.      NES           1985.0   \n",
       "2                                 Mario Kart Wii      Wii           2008.0   \n",
       "3                              Wii Sports Resort      Wii           2009.0   \n",
       "4                       Pokemon Red/Pokemon Blue       GB           1996.0   \n",
       "5                                         Tetris       GB           1989.0   \n",
       "6                          New Super Mario Bros.       DS           2006.0   \n",
       "7                                       Wii Play      Wii           2006.0   \n",
       "8                      New Super Mario Bros. Wii      Wii           2009.0   \n",
       "9                                      Duck Hunt      NES           1984.0   \n",
       "10                                    Nintendogs       DS           2005.0   \n",
       "11                                 Mario Kart DS       DS           2005.0   \n",
       "12                   Pokemon Gold/Pokemon Silver       GB           1999.0   \n",
       "13                                       Wii Fit      Wii           2007.0   \n",
       "14                            Kinect Adventures!     X360           2010.0   \n",
       "15                                  Wii Fit Plus      Wii           2009.0   \n",
       "16                            Grand Theft Auto V      PS3           2013.0   \n",
       "17                 Grand Theft Auto: San Andreas      PS2           2004.0   \n",
       "18                             Super Mario World     SNES           1990.0   \n",
       "19  Brain Age: Train Your Brain in Minutes a Day       DS           2005.0   \n",
       "\n",
       "           Genre  NA sales EU sales JP sales  Other sales  Critic Score  \\\n",
       "0         Sports     41.36    28.96     3.77         8.45          76.0   \n",
       "1       Platform     29.08     3.58     6.81         0.77           NaN   \n",
       "2         Racing     15.68    12.76     3.79         3.29          82.0   \n",
       "3         Sports     15.61    10.93     3.28         2.95          80.0   \n",
       "4   Role-Playing     11.27     8.89    10.22         1.00           NaN   \n",
       "5         Puzzle     23.20     2.26     4.22         0.58           NaN   \n",
       "6       Platform     11.28     9.14      6.5         2.88          89.0   \n",
       "7           Misc     13.96     9.18     2.93         2.84          58.0   \n",
       "8       Platform     14.44     6.94      4.7         2.24          87.0   \n",
       "9        Shooter     26.93     0.63     0.28         0.47           NaN   \n",
       "10    Simulation      9.05    10.95     1.93         2.74           NaN   \n",
       "11        Racing      9.71     7.47     4.13         1.90          91.0   \n",
       "12  Role-Playing      9.00     6.18      7.2         0.71           NaN   \n",
       "13        Sports      8.92     8.03      3.6         2.15          80.0   \n",
       "14          Misc     15.00     4.89     0.24         1.69          61.0   \n",
       "15        Sports      9.01     8.49     2.53         1.77          80.0   \n",
       "16        Action      7.02     9.09     0.98         3.96          97.0   \n",
       "17        Action      9.43      0.4     0.41        10.57          95.0   \n",
       "18      Platform     12.78     3.75     3.54         0.55           NaN   \n",
       "19          Misc      4.74      9.2     4.16         2.04          77.0   \n",
       "\n",
       "   User Score Rating  \n",
       "0           8      E  \n",
       "1         NaN    NaN  \n",
       "2         8.3      E  \n",
       "3           8      E  \n",
       "4         NaN    NaN  \n",
       "5         NaN    NaN  \n",
       "6         8.5      E  \n",
       "7         6.6      E  \n",
       "8         8.4      E  \n",
       "9         NaN    NaN  \n",
       "10        NaN    NaN  \n",
       "11        8.6      E  \n",
       "12        NaN    NaN  \n",
       "13        7.7      E  \n",
       "14        6.3      E  \n",
       "15        7.4      E  \n",
       "16        8.2      M  \n",
       "17          9      M  \n",
       "18        NaN    NaN  \n",
       "19        7.9      E  "
      ]
     },
     "execution_count": 4,
     "metadata": {},
     "output_type": "execute_result"
    }
   ],
   "source": [
    "games.head(20)"
   ]
  },
  {
   "cell_type": "markdown",
   "id": "26267bc0",
   "metadata": {
    "id": "26267bc0"
   },
   "source": [
    "- Сделайте вывод о полученных данных: данные какого объёма вам предоставили, соответствуют ли они описанию, встречаются ли в них пропуски, используются ли верные типы данных.\n",
    "- Отметьте другие особенности данных, которые вы обнаружили и на которые стоит обратить внимание при предобработке. Например, вы можете проверить названия столбцов: все ли названия отражают содержимое данных и прописаны в удобном для работы виде.\n",
    "Датасет new_games.csv содержит 11 столбцов и 16956 строк.\n",
    "\n",
    "Изучим типы данных и их корректность:\n",
    "\n",
    "- **Числовые значения с плавающей запятой (float64).** 4 столбца имеют данный тип данных:\n",
    "NA sales, Other sales содержат количество продаж в миллионах представлен типом float64. Это верное решение, так как они могут включать дробные значения. Year of Release представлен типом float64, что неправильно, так как год не может быть дробным значением. Это столбец логично поменять на тип int64 или меньшей разрядностью, но в нем встречаются пропуски и пока этого не получится. Может после предобработки пропусков мы к этому вернемся.\n",
    "Critic Score тоже представлен типом float64, что отражает оценку критиков от 0 до 100. Открыв первые 20 строк, встречаются в основном целые значения с 0 после запятой. Логично поменять тип данных на int64 или меньшей разрядностью для оптимизации, но в этом столбце встречаются пропуски, поэтому этого сделать не получится.\n",
    "- **Строковые данные (object).** Восемь столбцов имеют тип данных object:\n",
    "Name, Platform, Genre, Rating содержат строковую информацию (название игры, название платформы, жанр игры и категории рейтинга ESRB), что логично для текстовых данных. Здесь тип данных object подходит. Однако для столбцов Platform, Genre можно использовать тип category, чтобы улучшить производительноть и оптимизировать память.\n",
    "User Score представлен типом object, что неправильно, т.к. он отражает оценку пользователей от 0 до 10. Открыв первые 20 строк датафрейма, я вижу что имеются дробные значения, соответственно поменяем тип данных на float64.\n",
    "EU sales, JP sales представлены типом object, что неправильно. Т.к. это количество продаж в миллионах, то нужно поменять тип на float64, как это представлено в NA sales.\n",
    "\n",
    "После анализа типов данных видно, что множество столбцов некорректно представлены. \n",
    "\n",
    "На основе вывода метода .info() можно сделать следующие выводы о полноте данных:\n",
    "\n",
    "Столбцы с пропусками (неполные данные):\n",
    "\n",
    "- Name\n",
    "- Year of Release\n",
    "- Genre\n",
    "- Critic Score\n",
    "- User Score\n",
    "- Rating\n",
    "\n",
    "Все остальные 5 столбцов имеют 16956 заполненных строк"
   ]
  },
  {
   "cell_type": "markdown",
   "id": "774bf76e",
   "metadata": {
    "id": "774bf76e"
   },
   "source": [
    "---\n",
    "\n",
    "## 2.  Проверка ошибок в данных и их предобработка\n",
    "\n",
    "\n",
    "### 2.1. Названия, или метки, столбцов датафрейма\n",
    "\n",
    "- Выведите на экран названия всех столбцов датафрейма и проверьте их стиль написания.\n",
    "- Приведите все столбцы к стилю snake case. Названия должны быть в нижнем регистре, а вместо пробелов — подчёркивания."
   ]
  },
  {
   "cell_type": "code",
   "execution_count": 5,
   "id": "d554563c",
   "metadata": {
    "id": "d554563c"
   },
   "outputs": [
    {
     "name": "stdout",
     "output_type": "stream",
     "text": [
      "\n",
      "Новые названия столбцов: ['name', 'platform', 'year_of_release', 'genre', 'na_sales', 'eu_sales', 'jp_sales', 'other_sales', 'critic_score', 'user_score', 'rating']\n"
     ]
    },
    {
     "data": {
      "text/html": [
       "<div>\n",
       "<style scoped>\n",
       "    .dataframe tbody tr th:only-of-type {\n",
       "        vertical-align: middle;\n",
       "    }\n",
       "\n",
       "    .dataframe tbody tr th {\n",
       "        vertical-align: top;\n",
       "    }\n",
       "\n",
       "    .dataframe thead th {\n",
       "        text-align: right;\n",
       "    }\n",
       "</style>\n",
       "<table border=\"1\" class=\"dataframe\">\n",
       "  <thead>\n",
       "    <tr style=\"text-align: right;\">\n",
       "      <th></th>\n",
       "      <th>name</th>\n",
       "      <th>platform</th>\n",
       "      <th>year_of_release</th>\n",
       "      <th>genre</th>\n",
       "      <th>na_sales</th>\n",
       "      <th>eu_sales</th>\n",
       "      <th>jp_sales</th>\n",
       "      <th>other_sales</th>\n",
       "      <th>critic_score</th>\n",
       "      <th>user_score</th>\n",
       "      <th>rating</th>\n",
       "    </tr>\n",
       "  </thead>\n",
       "  <tbody>\n",
       "    <tr>\n",
       "      <th>0</th>\n",
       "      <td>Wii Sports</td>\n",
       "      <td>Wii</td>\n",
       "      <td>2006.0</td>\n",
       "      <td>Sports</td>\n",
       "      <td>41.36</td>\n",
       "      <td>28.96</td>\n",
       "      <td>3.77</td>\n",
       "      <td>8.45</td>\n",
       "      <td>76.0</td>\n",
       "      <td>8</td>\n",
       "      <td>E</td>\n",
       "    </tr>\n",
       "    <tr>\n",
       "      <th>1</th>\n",
       "      <td>Super Mario Bros.</td>\n",
       "      <td>NES</td>\n",
       "      <td>1985.0</td>\n",
       "      <td>Platform</td>\n",
       "      <td>29.08</td>\n",
       "      <td>3.58</td>\n",
       "      <td>6.81</td>\n",
       "      <td>0.77</td>\n",
       "      <td>NaN</td>\n",
       "      <td>NaN</td>\n",
       "      <td>NaN</td>\n",
       "    </tr>\n",
       "    <tr>\n",
       "      <th>2</th>\n",
       "      <td>Mario Kart Wii</td>\n",
       "      <td>Wii</td>\n",
       "      <td>2008.0</td>\n",
       "      <td>Racing</td>\n",
       "      <td>15.68</td>\n",
       "      <td>12.76</td>\n",
       "      <td>3.79</td>\n",
       "      <td>3.29</td>\n",
       "      <td>82.0</td>\n",
       "      <td>8.3</td>\n",
       "      <td>E</td>\n",
       "    </tr>\n",
       "    <tr>\n",
       "      <th>3</th>\n",
       "      <td>Wii Sports Resort</td>\n",
       "      <td>Wii</td>\n",
       "      <td>2009.0</td>\n",
       "      <td>Sports</td>\n",
       "      <td>15.61</td>\n",
       "      <td>10.93</td>\n",
       "      <td>3.28</td>\n",
       "      <td>2.95</td>\n",
       "      <td>80.0</td>\n",
       "      <td>8</td>\n",
       "      <td>E</td>\n",
       "    </tr>\n",
       "    <tr>\n",
       "      <th>4</th>\n",
       "      <td>Pokemon Red/Pokemon Blue</td>\n",
       "      <td>GB</td>\n",
       "      <td>1996.0</td>\n",
       "      <td>Role-Playing</td>\n",
       "      <td>11.27</td>\n",
       "      <td>8.89</td>\n",
       "      <td>10.22</td>\n",
       "      <td>1.00</td>\n",
       "      <td>NaN</td>\n",
       "      <td>NaN</td>\n",
       "      <td>NaN</td>\n",
       "    </tr>\n",
       "  </tbody>\n",
       "</table>\n",
       "</div>"
      ],
      "text/plain": [
       "                       name platform  year_of_release         genre  na_sales  \\\n",
       "0                Wii Sports      Wii           2006.0        Sports     41.36   \n",
       "1         Super Mario Bros.      NES           1985.0      Platform     29.08   \n",
       "2            Mario Kart Wii      Wii           2008.0        Racing     15.68   \n",
       "3         Wii Sports Resort      Wii           2009.0        Sports     15.61   \n",
       "4  Pokemon Red/Pokemon Blue       GB           1996.0  Role-Playing     11.27   \n",
       "\n",
       "  eu_sales jp_sales  other_sales  critic_score user_score rating  \n",
       "0    28.96     3.77         8.45          76.0          8      E  \n",
       "1     3.58     6.81         0.77           NaN        NaN    NaN  \n",
       "2    12.76     3.79         3.29          82.0        8.3      E  \n",
       "3    10.93     3.28         2.95          80.0          8      E  \n",
       "4     8.89    10.22         1.00           NaN        NaN    NaN  "
      ]
     },
     "execution_count": 5,
     "metadata": {},
     "output_type": "execute_result"
    }
   ],
   "source": [
    "games.columns = games.columns.str.lower().str.replace(' ', '_')\n",
    "\n",
    "print(\"\\nНовые названия столбцов:\", games.columns.tolist())\n",
    "games.head()"
   ]
  },
  {
   "cell_type": "markdown",
   "id": "41bc6bf8",
   "metadata": {
    "id": "41bc6bf8"
   },
   "source": [
    "### 2.2. Типы данных\n",
    "\n",
    "- Если встречаются некорректные типы данных, предположите их причины.\n",
    "- При необходимости проведите преобразование типов данных. Помните, что столбцы с числовыми данными и пропусками нельзя преобразовать к типу `int64`. Сначала вам понадобится обработать пропуски, а затем преобразовать типы данных."
   ]
  },
  {
   "cell_type": "code",
   "execution_count": 6,
   "id": "8adaac81",
   "metadata": {
    "id": "8adaac81"
   },
   "outputs": [
    {
     "name": "stdout",
     "output_type": "stream",
     "text": [
      "platform    category\n",
      "genre       category\n",
      "dtype: object\n"
     ]
    }
   ],
   "source": [
    "# Преобразование столбцов в категориальный тип\n",
    "games['platform'] = games['platform'].astype('category')\n",
    "games['genre'] = games['genre'].astype('category')\n",
    "\n",
    "# Проверка типов данных\n",
    "print(games[['platform', 'genre']].dtypes)"
   ]
  },
  {
   "cell_type": "code",
   "execution_count": 7,
   "id": "e8412c01",
   "metadata": {
    "id": "e8412c01"
   },
   "outputs": [
    {
     "name": "stdout",
     "output_type": "stream",
     "text": [
      "user_score    float64\n",
      "eu_sales      float64\n",
      "jp_sales      float64\n",
      "dtype: object\n",
      "[8.  nan 8.3 8.5 6.6 8.4 8.6 7.7 6.3 7.4 8.2 9.  7.9 8.1 8.7 7.1 3.4 5.3\n",
      " 4.8 3.2 8.9 6.4 7.8 7.5 2.6 7.2 9.2 7.  7.3 4.3 7.6 5.7 5.  9.1 6.5 8.8\n",
      " 6.9 9.4 6.8 6.1 6.7 5.4 4.  4.9 4.5 9.3 6.2 4.2 6.  3.7 4.1 5.8 5.6 5.5\n",
      " 4.4 4.6 5.9 3.9 3.1 2.9 5.2 3.3 4.7 5.1 3.5 2.5 1.9 3.  2.7 2.2 2.  9.5\n",
      " 2.1 3.6 2.8 1.8 3.8 0.  1.6 9.6 2.4 1.7 1.1 0.3 1.5 0.7 1.2 2.3 0.5 1.3\n",
      " 0.2 0.6 1.4 0.9 1.  9.7]\n"
     ]
    }
   ],
   "source": [
    "# Преобразование столбцов к типу float64\n",
    "games['eu_sales'] = pd.to_numeric(games['eu_sales'], errors='coerce')\n",
    "games['jp_sales'] = pd.to_numeric(games['jp_sales'], errors='coerce')\n",
    "games['user_score'] = pd.to_numeric(games['user_score'], errors='coerce')\n",
    "\n",
    "# Проверка типов данных\n",
    "print(games[['user_score', 'eu_sales', 'jp_sales']].dtypes)\n",
    "print(games['user_score'].unique())  # Убедитесь, что 'tbd' больше нет"
   ]
  },
  {
   "cell_type": "markdown",
   "id": "63378edf",
   "metadata": {
    "id": "63378edf"
   },
   "source": [
    "- В числовом столбце user_score встретились строковые значения `tbd`. Этот столбец привел к числовому типу данных, заменив строковые значения на пропуски 'nan'."
   ]
  },
  {
   "cell_type": "markdown",
   "id": "b39893cb",
   "metadata": {
    "id": "b39893cb"
   },
   "source": [
    "### 2.3. Наличие пропусков в данных\n",
    "\n",
    "- Посчитайте количество пропусков в каждом столбце в абсолютных и относительных значениях.\n"
   ]
  },
  {
   "cell_type": "code",
   "execution_count": 8,
   "id": "0f1c91a8",
   "metadata": {
    "id": "0f1c91a8"
   },
   "outputs": [
    {
     "name": "stdout",
     "output_type": "stream",
     "text": [
      "Количество пропусков в данных:\n"
     ]
    },
    {
     "data": {
      "text/html": [
       "<div>\n",
       "<style scoped>\n",
       "    .dataframe tbody tr th:only-of-type {\n",
       "        vertical-align: middle;\n",
       "    }\n",
       "\n",
       "    .dataframe tbody tr th {\n",
       "        vertical-align: top;\n",
       "    }\n",
       "\n",
       "    .dataframe thead th {\n",
       "        text-align: right;\n",
       "    }\n",
       "</style>\n",
       "<table border=\"1\" class=\"dataframe\">\n",
       "  <thead>\n",
       "    <tr style=\"text-align: right;\">\n",
       "      <th></th>\n",
       "      <th>Абсолютные пропуски</th>\n",
       "      <th>Относительные пропуски (%)</th>\n",
       "    </tr>\n",
       "  </thead>\n",
       "  <tbody>\n",
       "    <tr>\n",
       "      <th>user_score</th>\n",
       "      <td>9268</td>\n",
       "      <td>54.659118</td>\n",
       "    </tr>\n",
       "    <tr>\n",
       "      <th>critic_score</th>\n",
       "      <td>8714</td>\n",
       "      <td>51.391838</td>\n",
       "    </tr>\n",
       "    <tr>\n",
       "      <th>rating</th>\n",
       "      <td>6871</td>\n",
       "      <td>40.522529</td>\n",
       "    </tr>\n",
       "    <tr>\n",
       "      <th>year_of_release</th>\n",
       "      <td>275</td>\n",
       "      <td>1.621845</td>\n",
       "    </tr>\n",
       "    <tr>\n",
       "      <th>eu_sales</th>\n",
       "      <td>6</td>\n",
       "      <td>0.035386</td>\n",
       "    </tr>\n",
       "    <tr>\n",
       "      <th>jp_sales</th>\n",
       "      <td>4</td>\n",
       "      <td>0.023590</td>\n",
       "    </tr>\n",
       "    <tr>\n",
       "      <th>name</th>\n",
       "      <td>2</td>\n",
       "      <td>0.011795</td>\n",
       "    </tr>\n",
       "    <tr>\n",
       "      <th>genre</th>\n",
       "      <td>2</td>\n",
       "      <td>0.011795</td>\n",
       "    </tr>\n",
       "    <tr>\n",
       "      <th>platform</th>\n",
       "      <td>0</td>\n",
       "      <td>0.000000</td>\n",
       "    </tr>\n",
       "    <tr>\n",
       "      <th>na_sales</th>\n",
       "      <td>0</td>\n",
       "      <td>0.000000</td>\n",
       "    </tr>\n",
       "    <tr>\n",
       "      <th>other_sales</th>\n",
       "      <td>0</td>\n",
       "      <td>0.000000</td>\n",
       "    </tr>\n",
       "  </tbody>\n",
       "</table>\n",
       "</div>"
      ],
      "text/plain": [
       "                 Абсолютные пропуски  Относительные пропуски (%)\n",
       "user_score                      9268                   54.659118\n",
       "critic_score                    8714                   51.391838\n",
       "rating                          6871                   40.522529\n",
       "year_of_release                  275                    1.621845\n",
       "eu_sales                           6                    0.035386\n",
       "jp_sales                           4                    0.023590\n",
       "name                               2                    0.011795\n",
       "genre                              2                    0.011795\n",
       "platform                           0                    0.000000\n",
       "na_sales                           0                    0.000000\n",
       "other_sales                        0                    0.000000"
      ]
     },
     "metadata": {},
     "output_type": "display_data"
    }
   ],
   "source": [
    "# Создаем DataFrame с информацией о пропусках\n",
    "missing_data = pd.DataFrame({\n",
    "    'Абсолютные пропуски': games.isna().sum(),\n",
    "    'Относительные пропуски (%)': games.isna().mean() * 100\n",
    "})\n",
    "\n",
    "# Сортируем по убыванию абсолютных пропусков\n",
    "missing_data = missing_data.sort_values('Абсолютные пропуски', ascending=False)\n",
    "\n",
    "# Выводим результат\n",
    "print(\"Количество пропусков в данных:\")\n",
    "display(missing_data)"
   ]
  },
  {
   "cell_type": "markdown",
   "id": "19eed2d1",
   "metadata": {
    "id": "86cd1cc1"
   },
   "source": [
    "Из таблицы пропусков видно, что данные содержат значительное количество отсутствующих значений в следующих столбцах:\n",
    "- critic_score\t8,694\t(51.28%)\n",
    "- rating\t6,871\t(40.52%)\n",
    "- user_score\t6,804\t(40.13%)\n",
    "- year_of_release\t275\t(1.62%)\n",
    "- name\t2\t(0.01%)\n",
    "- genre\t2\t(0.01%)\n",
    "\n",
    "critic_score (51.28% пропусков)\n",
    "\n",
    "Причина: Не все игры проходили профессиональную оценку критиков (например, старые или малоизвестные проекты).\n",
    "\n",
    "rating (40.52% пропусков)\n",
    "\n",
    "Причина: Рейтинг ESRB (возрастной рейтинг) мог отсутствовать у игр, не выпущенных в Северной Америке, либо у очень старых игр (до 1994 года).\n",
    "\n",
    "user_score (40.13% пропусков)\n",
    "\n",
    "Причина: Пользователи могли не оценивать непопулярные игры. Также в столбце встречалось значение \"tbd\" (его мы заменили на NaN).\n",
    "\n",
    "year_of_release (1.62% пропусков)\n",
    "\n",
    "Причина: Ошибки в данных или игры, которые так и не вышли.\n",
    "\n",
    "name и genre (по 2 пропуска)\n",
    "\n",
    "Причина: Очевидные ошибки в данных.\n",
    "\n",
    "### Выводы по обработке:\n",
    "Для critic_score, user_score, rating можно оставить пропуски. Т.к. нам нужно вывести топ-7 платформ по кол-ву выпущенных игр с 2000 по 2013 год включительно\n",
    "\n",
    "Для year_of_release удалить строки с пропусками, так как их мало и они не повлияют на статистику. Т.к. при фильтрации эти игры все равно вылетят из-за неизвестного года выпуска.\n",
    "\n",
    "Для name и genre удалить 2 строки с пропусками, так как они незначительны."
   ]
  },
  {
   "cell_type": "markdown",
   "id": "cf796f51",
   "metadata": {
    "id": "cf796f51"
   },
   "source": [
    "- Изучите данные с пропущенными значениями. Напишите промежуточный вывод: для каких столбцов характерны пропуски и сколько их. Предположите, почему пропуски могли возникнуть. Укажите, какие действия с этими данными можно сделать и почему.\n"
   ]
  },
  {
   "cell_type": "code",
   "execution_count": 9,
   "id": "bd69e642",
   "metadata": {
    "id": "bd69e642"
   },
   "outputs": [
    {
     "name": "stdout",
     "output_type": "stream",
     "text": [
      "Осталось пропусков:\n",
      "name               0\n",
      "genre              0\n",
      "year_of_release    0\n",
      "dtype: int64\n"
     ]
    }
   ],
   "source": [
    "# Удаляем строки с незначительными пропусками в стоблцах year_of_release, name, genre.\n",
    "games = games.dropna(subset=['name', 'genre', 'year_of_release'])\n",
    "\n",
    "# Проверяем остались ли еще пропуски в этих столбцах.\n",
    "print(\"Осталось пропусков:\")\n",
    "print(games[['name', 'genre', 'year_of_release']].isna().sum())"
   ]
  },
  {
   "cell_type": "markdown",
   "id": "bbbe3bda",
   "metadata": {
    "id": "bbbe3bda"
   },
   "source": [
    "- Обработайте пропущенные значения. Для каждого случая вы можете выбрать оптимальный, на ваш взгляд, вариант: заменить на определённое значение, оставить как есть или удалить.\n",
    "- Если вы решите заменить пропуски на значение-индикатор, то убедитесь, что предложенное значение не может быть использовано в данных.\n",
    "- Если вы нашли пропуски в данных с количеством проданных копий игры в том или ином регионе, их можно заменить на среднее значение в зависимости от названия платформы и года выхода игры."
   ]
  },
  {
   "cell_type": "markdown",
   "id": "a63363fd",
   "metadata": {
    "id": "a63363fd"
   },
   "source": [
    "### 2.4. Явные и неявные дубликаты в данных\n",
    "\n",
    "- Изучите уникальные значения в категориальных данных, например с названиями жанра игры, платформы, рейтинга и года выпуска. Проверьте, встречаются ли среди данных неявные дубликаты, связанные с опечатками или разным способом написания.\n",
    "- При необходимости проведите нормализацию данных с текстовыми значениями. Названия или жанры игр можно привести к нижнему регистру, а названия рейтинга — к верхнему."
   ]
  },
  {
   "cell_type": "code",
   "execution_count": 10,
   "id": "491c9c39",
   "metadata": {
    "id": "491c9c39",
    "scrolled": false
   },
   "outputs": [
    {
     "name": "stdout",
     "output_type": "stream",
     "text": [
      "\n",
      "Уникальные значения в столбце 'platform':\n",
      "['2600', '3DO', '3DS', 'DC', 'DS', 'GB', 'GBA', 'GC', 'GEN', 'GG', 'N64', 'NES', 'NG', 'PC', 'PCFX', 'PS', 'PS2', 'PS3', 'PS4', 'PSP', 'PSV', 'SAT', 'SCD', 'SNES', 'TG16', 'WS', 'Wii', 'WiiU', 'X360', 'XB', 'XOne']\n",
      "Всего уникальных значений: 31\n",
      "\n",
      "Уникальные значения в столбце 'genre':\n",
      "['ACTION', 'ADVENTURE', 'Action', 'Adventure', 'FIGHTING', 'Fighting', 'MISC', 'Misc', 'PLATFORM', 'PUZZLE', 'Platform', 'Puzzle', 'RACING', 'ROLE-PLAYING', 'Racing', 'Role-Playing', 'SHOOTER', 'SIMULATION', 'SPORTS', 'STRATEGY', 'Shooter', 'Simulation', 'Sports', 'Strategy']\n",
      "Всего уникальных значений: 24\n",
      "\n",
      "Уникальные значения в столбце 'rating':\n",
      "['AO', 'E', 'E10+', 'EC', 'K-A', 'M', 'RP', 'T']\n",
      "Всего уникальных значений: 8\n",
      "\n",
      "Уникальные значения в столбце 'year_of_release':\n",
      "[1980.0, 1981.0, 1982.0, 1983.0, 1984.0, 1985.0, 1986.0, 1987.0, 1988.0, 1989.0, 1990.0, 1991.0, 1992.0, 1993.0, 1994.0, 1995.0, 1996.0, 1997.0, 1998.0, 1999.0, 2000.0, 2001.0, 2002.0, 2003.0, 2004.0, 2005.0, 2006.0, 2007.0, 2008.0, 2009.0, 2010.0, 2011.0, 2012.0, 2013.0, 2014.0, 2015.0, 2016.0]\n",
      "Всего уникальных значений: 37\n"
     ]
    }
   ],
   "source": [
    "# Выбираем категориальные столбцы\n",
    "cat_columns = ['platform', 'genre', 'rating', 'year_of_release']\n",
    "\n",
    "# Анализируем уникальные значения\n",
    "for column in cat_columns:\n",
    "    unique_values = games[column].dropna().unique()  # Игнорируем пропуски\n",
    "    print(f\"\\nУникальные значения в столбце '{column}':\")\n",
    "    \n",
    "    try:\n",
    "        # Пробуем отсортировать (для числовых и строковых значений)\n",
    "        print(sorted(unique_values))\n",
    "    except TypeError:\n",
    "        # Если сортировка невозможна (смешанные типы), выводим как есть\n",
    "        print(unique_values)\n",
    "    \n",
    "    print(f\"Всего уникальных значений: {len(unique_values)}\")"
   ]
  },
  {
   "cell_type": "code",
   "execution_count": 11,
   "id": "f1627198",
   "metadata": {
    "id": "f1627198"
   },
   "outputs": [
    {
     "name": "stdout",
     "output_type": "stream",
     "text": [
      "Тип данных year_of_release: int64\n",
      "Уникальные годы после преобразования: [1980, 1981, 1982, 1983, 1984, 1985, 1986, 1987, 1988, 1989, 1990, 1991, 1992, 1993, 1994, 1995, 1996, 1997, 1998, 1999, 2000, 2001, 2002, 2003, 2004, 2005, 2006, 2007, 2008, 2009, 2010, 2011, 2012, 2013, 2014, 2015, 2016]\n"
     ]
    }
   ],
   "source": [
    "# Преобразуем год выпуска в int64 (пропуски уже обработаны)\n",
    "games['year_of_release'] = games['year_of_release'].astype('int64')\n",
    "\n",
    "# Проверим результат\n",
    "print(\"Тип данных year_of_release:\", games['year_of_release'].dtype)\n",
    "print(\"Уникальные годы после преобразования:\", sorted(games['year_of_release'].unique()))"
   ]
  },
  {
   "cell_type": "code",
   "execution_count": 12,
   "id": "a0cac80c",
   "metadata": {
    "id": "a0cac80c"
   },
   "outputs": [
    {
     "name": "stdout",
     "output_type": "stream",
     "text": [
      "\n",
      "Уникальные значения в name:\n",
      "['wii sports' 'super mario bros' 'mario kart wii' 'wii sports resort'\n",
      " 'pokemon redpokemon blue' 'tetris' 'new super mario bros' 'wii play'\n",
      " 'new super mario bros wii' 'duck hunt']\n",
      "Всего уникальных: 11404\n",
      "\n",
      "Уникальные значения в platform:\n",
      "['WII' 'NES' 'GB' 'DS' 'X360' 'PS3' 'PS2' 'SNES' 'GBA' 'PS4']\n",
      "Всего уникальных: 31\n",
      "\n",
      "Уникальные значения в genre:\n",
      "['SPORTS' 'PLATFORM' 'RACING' 'ROLE PLAYING' 'PUZZLE' 'MISC' 'SHOOTER'\n",
      " 'SIMULATION' 'ACTION' 'FIGHTING']\n",
      "Всего уникальных: 12\n",
      "\n",
      "Уникальные значения в rating:\n",
      "['E' nan 'M' 'T' 'E10+' 'AO' 'NR']\n",
      "Всего уникальных: 6\n"
     ]
    }
   ],
   "source": [
    "# Нормализация названий игр (name)\n",
    "games['name'] = (\n",
    "    games['name'].str.strip()  # Удаляем пробелы по краям\n",
    "    .str.lower()              # Приводим к нижнему регистру\n",
    "    .str.replace(r'[^\\w\\s]', '', regex=True)  # Удаляем спецсимволы\n",
    ")\n",
    "\n",
    "# Нормализация платформ (platform)\n",
    "games['platform'] = (\n",
    "    games['platform'].str.strip()\n",
    "    .str.upper()  # Платформы обычно в верхнем регистре (PS3, XBOX)\n",
    "    .str.replace(r'[^\\w]', '', regex=True)  # Удаляем не-алфавитные символы\n",
    ")\n",
    "\n",
    "# Нормализация жанров (genre)\n",
    "games['genre'] = (\n",
    "    games['genre'].str.strip()\n",
    "    .str.upper()\n",
    "    .str.replace('-', ' ')      # Заменяем дефисы на пробелы\n",
    "    .str.replace(r'\\s+', ' ', regex=True)  # Удаляем лишние пробелы\n",
    ")\n",
    "\n",
    "# Нормализация рейтингов (rating)\n",
    "games['rating'] = (\n",
    "    games['rating'].str.strip()\n",
    "    .str.upper()\n",
    "    .str.replace(' ', '')       # Удаляем пробелы в рейтингах\n",
    "    .replace({'K-A': 'E',       # Старые обозначения к новым\n",
    "              'EC': 'E',\n",
    "              'RP': 'NR'})      # Rating Pending -> Not Rated\n",
    ")\n",
    "\n",
    "# Проверка результатов\n",
    "text_columns = ['name', 'platform', 'genre', 'rating']\n",
    "for col in text_columns:\n",
    "    print(f\"\\nУникальные значения в {col}:\")\n",
    "    print(games[col].unique()[:10])  # Выводим первые 10 уникальных значений\n",
    "    print(f\"Всего уникальных: {games[col].nunique()}\")"
   ]
  },
  {
   "cell_type": "markdown",
   "id": "fc3d3db4",
   "metadata": {
    "id": "fc3d3db4"
   },
   "source": [
    "- После того как нормализуете данные и устраните неявные дубликаты, проверьте наличие явных дубликатов в данных."
   ]
  },
  {
   "cell_type": "code",
   "execution_count": 13,
   "id": "fc5c91b5",
   "metadata": {
    "id": "fc5c91b5"
   },
   "outputs": [
    {
     "name": "stdout",
     "output_type": "stream",
     "text": [
      "Найдено 470 полных дубликатов:\n"
     ]
    },
    {
     "data": {
      "text/html": [
       "<div>\n",
       "<style scoped>\n",
       "    .dataframe tbody tr th:only-of-type {\n",
       "        vertical-align: middle;\n",
       "    }\n",
       "\n",
       "    .dataframe tbody tr th {\n",
       "        vertical-align: top;\n",
       "    }\n",
       "\n",
       "    .dataframe thead th {\n",
       "        text-align: right;\n",
       "    }\n",
       "</style>\n",
       "<table border=\"1\" class=\"dataframe\">\n",
       "  <thead>\n",
       "    <tr style=\"text-align: right;\">\n",
       "      <th></th>\n",
       "      <th>name</th>\n",
       "      <th>platform</th>\n",
       "      <th>year_of_release</th>\n",
       "      <th>genre</th>\n",
       "      <th>na_sales</th>\n",
       "      <th>eu_sales</th>\n",
       "      <th>jp_sales</th>\n",
       "      <th>other_sales</th>\n",
       "      <th>critic_score</th>\n",
       "      <th>user_score</th>\n",
       "      <th>rating</th>\n",
       "    </tr>\n",
       "  </thead>\n",
       "  <tbody>\n",
       "    <tr>\n",
       "      <th>15301</th>\n",
       "      <td>11eyes crossover</td>\n",
       "      <td>X360</td>\n",
       "      <td>2009</td>\n",
       "      <td>ADVENTURE</td>\n",
       "      <td>0.00</td>\n",
       "      <td>0.00</td>\n",
       "      <td>0.02</td>\n",
       "      <td>0.00</td>\n",
       "      <td>NaN</td>\n",
       "      <td>NaN</td>\n",
       "      <td>NaN</td>\n",
       "    </tr>\n",
       "    <tr>\n",
       "      <th>15302</th>\n",
       "      <td>11eyes crossover</td>\n",
       "      <td>X360</td>\n",
       "      <td>2009</td>\n",
       "      <td>ADVENTURE</td>\n",
       "      <td>0.00</td>\n",
       "      <td>0.00</td>\n",
       "      <td>0.02</td>\n",
       "      <td>0.00</td>\n",
       "      <td>NaN</td>\n",
       "      <td>NaN</td>\n",
       "      <td>NaN</td>\n",
       "    </tr>\n",
       "    <tr>\n",
       "      <th>4861</th>\n",
       "      <td>18 wheeler american pro trucker</td>\n",
       "      <td>PS2</td>\n",
       "      <td>2001</td>\n",
       "      <td>RACING</td>\n",
       "      <td>0.20</td>\n",
       "      <td>0.15</td>\n",
       "      <td>0.00</td>\n",
       "      <td>0.05</td>\n",
       "      <td>61.0</td>\n",
       "      <td>5.7</td>\n",
       "      <td>E</td>\n",
       "    </tr>\n",
       "    <tr>\n",
       "      <th>4860</th>\n",
       "      <td>18 wheeler american pro trucker</td>\n",
       "      <td>PS2</td>\n",
       "      <td>2001</td>\n",
       "      <td>RACING</td>\n",
       "      <td>0.20</td>\n",
       "      <td>0.15</td>\n",
       "      <td>0.00</td>\n",
       "      <td>0.05</td>\n",
       "      <td>61.0</td>\n",
       "      <td>5.7</td>\n",
       "      <td>E</td>\n",
       "    </tr>\n",
       "    <tr>\n",
       "      <th>13099</th>\n",
       "      <td>4 elements</td>\n",
       "      <td>PC</td>\n",
       "      <td>2009</td>\n",
       "      <td>PUZZLE</td>\n",
       "      <td>0.00</td>\n",
       "      <td>0.04</td>\n",
       "      <td>0.00</td>\n",
       "      <td>0.01</td>\n",
       "      <td>NaN</td>\n",
       "      <td>7.4</td>\n",
       "      <td>E</td>\n",
       "    </tr>\n",
       "    <tr>\n",
       "      <th>...</th>\n",
       "      <td>...</td>\n",
       "      <td>...</td>\n",
       "      <td>...</td>\n",
       "      <td>...</td>\n",
       "      <td>...</td>\n",
       "      <td>...</td>\n",
       "      <td>...</td>\n",
       "      <td>...</td>\n",
       "      <td>...</td>\n",
       "      <td>...</td>\n",
       "      <td>...</td>\n",
       "    </tr>\n",
       "    <tr>\n",
       "      <th>2909</th>\n",
       "      <td>yugioh the falsebound kingdom</td>\n",
       "      <td>GC</td>\n",
       "      <td>2002</td>\n",
       "      <td>STRATEGY</td>\n",
       "      <td>0.49</td>\n",
       "      <td>0.13</td>\n",
       "      <td>0.07</td>\n",
       "      <td>0.02</td>\n",
       "      <td>NaN</td>\n",
       "      <td>NaN</td>\n",
       "      <td>NaN</td>\n",
       "    </tr>\n",
       "    <tr>\n",
       "      <th>6696</th>\n",
       "      <td>zoo resort 3d</td>\n",
       "      <td>3DS</td>\n",
       "      <td>2011</td>\n",
       "      <td>SIMULATION</td>\n",
       "      <td>0.11</td>\n",
       "      <td>0.09</td>\n",
       "      <td>0.03</td>\n",
       "      <td>0.02</td>\n",
       "      <td>NaN</td>\n",
       "      <td>NaN</td>\n",
       "      <td>E</td>\n",
       "    </tr>\n",
       "    <tr>\n",
       "      <th>6695</th>\n",
       "      <td>zoo resort 3d</td>\n",
       "      <td>3DS</td>\n",
       "      <td>2011</td>\n",
       "      <td>SIMULATION</td>\n",
       "      <td>0.11</td>\n",
       "      <td>0.09</td>\n",
       "      <td>0.03</td>\n",
       "      <td>0.02</td>\n",
       "      <td>NaN</td>\n",
       "      <td>NaN</td>\n",
       "      <td>E</td>\n",
       "    </tr>\n",
       "    <tr>\n",
       "      <th>8157</th>\n",
       "      <td>zumba fitness rush</td>\n",
       "      <td>X360</td>\n",
       "      <td>2012</td>\n",
       "      <td>SPORTS</td>\n",
       "      <td>0.00</td>\n",
       "      <td>0.16</td>\n",
       "      <td>0.00</td>\n",
       "      <td>0.02</td>\n",
       "      <td>73.0</td>\n",
       "      <td>6.2</td>\n",
       "      <td>E10+</td>\n",
       "    </tr>\n",
       "    <tr>\n",
       "      <th>8156</th>\n",
       "      <td>zumba fitness rush</td>\n",
       "      <td>X360</td>\n",
       "      <td>2012</td>\n",
       "      <td>SPORTS</td>\n",
       "      <td>0.00</td>\n",
       "      <td>0.16</td>\n",
       "      <td>0.00</td>\n",
       "      <td>0.02</td>\n",
       "      <td>73.0</td>\n",
       "      <td>6.2</td>\n",
       "      <td>E10+</td>\n",
       "    </tr>\n",
       "  </tbody>\n",
       "</table>\n",
       "<p>470 rows × 11 columns</p>\n",
       "</div>"
      ],
      "text/plain": [
       "                                  name platform  year_of_release       genre  \\\n",
       "15301                 11eyes crossover     X360             2009   ADVENTURE   \n",
       "15302                 11eyes crossover     X360             2009   ADVENTURE   \n",
       "4861   18 wheeler american pro trucker      PS2             2001      RACING   \n",
       "4860   18 wheeler american pro trucker      PS2             2001      RACING   \n",
       "13099                       4 elements       PC             2009      PUZZLE   \n",
       "...                                ...      ...              ...         ...   \n",
       "2909     yugioh the falsebound kingdom       GC             2002    STRATEGY   \n",
       "6696                     zoo resort 3d      3DS             2011  SIMULATION   \n",
       "6695                     zoo resort 3d      3DS             2011  SIMULATION   \n",
       "8157                zumba fitness rush     X360             2012      SPORTS   \n",
       "8156                zumba fitness rush     X360             2012      SPORTS   \n",
       "\n",
       "       na_sales  eu_sales  jp_sales  other_sales  critic_score  user_score  \\\n",
       "15301      0.00      0.00      0.02         0.00           NaN         NaN   \n",
       "15302      0.00      0.00      0.02         0.00           NaN         NaN   \n",
       "4861       0.20      0.15      0.00         0.05          61.0         5.7   \n",
       "4860       0.20      0.15      0.00         0.05          61.0         5.7   \n",
       "13099      0.00      0.04      0.00         0.01           NaN         7.4   \n",
       "...         ...       ...       ...          ...           ...         ...   \n",
       "2909       0.49      0.13      0.07         0.02           NaN         NaN   \n",
       "6696       0.11      0.09      0.03         0.02           NaN         NaN   \n",
       "6695       0.11      0.09      0.03         0.02           NaN         NaN   \n",
       "8157       0.00      0.16      0.00         0.02          73.0         6.2   \n",
       "8156       0.00      0.16      0.00         0.02          73.0         6.2   \n",
       "\n",
       "      rating  \n",
       "15301    NaN  \n",
       "15302    NaN  \n",
       "4861       E  \n",
       "4860       E  \n",
       "13099      E  \n",
       "...      ...  \n",
       "2909     NaN  \n",
       "6696       E  \n",
       "6695       E  \n",
       "8157    E10+  \n",
       "8156    E10+  \n",
       "\n",
       "[470 rows x 11 columns]"
      ]
     },
     "metadata": {},
     "output_type": "display_data"
    },
    {
     "name": "stdout",
     "output_type": "stream",
     "text": [
      "\n",
      "Найдено 472 дубликатов по названию+платформе+году:\n"
     ]
    },
    {
     "data": {
      "text/html": [
       "<div>\n",
       "<style scoped>\n",
       "    .dataframe tbody tr th:only-of-type {\n",
       "        vertical-align: middle;\n",
       "    }\n",
       "\n",
       "    .dataframe tbody tr th {\n",
       "        vertical-align: top;\n",
       "    }\n",
       "\n",
       "    .dataframe thead th {\n",
       "        text-align: right;\n",
       "    }\n",
       "</style>\n",
       "<table border=\"1\" class=\"dataframe\">\n",
       "  <thead>\n",
       "    <tr style=\"text-align: right;\">\n",
       "      <th></th>\n",
       "      <th>name</th>\n",
       "      <th>platform</th>\n",
       "      <th>year_of_release</th>\n",
       "      <th>genre</th>\n",
       "      <th>na_sales</th>\n",
       "      <th>eu_sales</th>\n",
       "      <th>jp_sales</th>\n",
       "      <th>other_sales</th>\n",
       "      <th>critic_score</th>\n",
       "      <th>user_score</th>\n",
       "      <th>rating</th>\n",
       "    </tr>\n",
       "  </thead>\n",
       "  <tbody>\n",
       "    <tr>\n",
       "      <th>15301</th>\n",
       "      <td>11eyes crossover</td>\n",
       "      <td>X360</td>\n",
       "      <td>2009</td>\n",
       "      <td>ADVENTURE</td>\n",
       "      <td>0.00</td>\n",
       "      <td>0.00</td>\n",
       "      <td>0.02</td>\n",
       "      <td>0.00</td>\n",
       "      <td>NaN</td>\n",
       "      <td>NaN</td>\n",
       "      <td>NaN</td>\n",
       "    </tr>\n",
       "    <tr>\n",
       "      <th>15302</th>\n",
       "      <td>11eyes crossover</td>\n",
       "      <td>X360</td>\n",
       "      <td>2009</td>\n",
       "      <td>ADVENTURE</td>\n",
       "      <td>0.00</td>\n",
       "      <td>0.00</td>\n",
       "      <td>0.02</td>\n",
       "      <td>0.00</td>\n",
       "      <td>NaN</td>\n",
       "      <td>NaN</td>\n",
       "      <td>NaN</td>\n",
       "    </tr>\n",
       "    <tr>\n",
       "      <th>4860</th>\n",
       "      <td>18 wheeler american pro trucker</td>\n",
       "      <td>PS2</td>\n",
       "      <td>2001</td>\n",
       "      <td>RACING</td>\n",
       "      <td>0.20</td>\n",
       "      <td>0.15</td>\n",
       "      <td>0.00</td>\n",
       "      <td>0.05</td>\n",
       "      <td>61.0</td>\n",
       "      <td>5.7</td>\n",
       "      <td>E</td>\n",
       "    </tr>\n",
       "    <tr>\n",
       "      <th>4861</th>\n",
       "      <td>18 wheeler american pro trucker</td>\n",
       "      <td>PS2</td>\n",
       "      <td>2001</td>\n",
       "      <td>RACING</td>\n",
       "      <td>0.20</td>\n",
       "      <td>0.15</td>\n",
       "      <td>0.00</td>\n",
       "      <td>0.05</td>\n",
       "      <td>61.0</td>\n",
       "      <td>5.7</td>\n",
       "      <td>E</td>\n",
       "    </tr>\n",
       "    <tr>\n",
       "      <th>13098</th>\n",
       "      <td>4 elements</td>\n",
       "      <td>PC</td>\n",
       "      <td>2009</td>\n",
       "      <td>PUZZLE</td>\n",
       "      <td>0.00</td>\n",
       "      <td>0.04</td>\n",
       "      <td>0.00</td>\n",
       "      <td>0.01</td>\n",
       "      <td>NaN</td>\n",
       "      <td>7.4</td>\n",
       "      <td>E</td>\n",
       "    </tr>\n",
       "    <tr>\n",
       "      <th>...</th>\n",
       "      <td>...</td>\n",
       "      <td>...</td>\n",
       "      <td>...</td>\n",
       "      <td>...</td>\n",
       "      <td>...</td>\n",
       "      <td>...</td>\n",
       "      <td>...</td>\n",
       "      <td>...</td>\n",
       "      <td>...</td>\n",
       "      <td>...</td>\n",
       "      <td>...</td>\n",
       "    </tr>\n",
       "    <tr>\n",
       "      <th>2909</th>\n",
       "      <td>yugioh the falsebound kingdom</td>\n",
       "      <td>GC</td>\n",
       "      <td>2002</td>\n",
       "      <td>STRATEGY</td>\n",
       "      <td>0.49</td>\n",
       "      <td>0.13</td>\n",
       "      <td>0.07</td>\n",
       "      <td>0.02</td>\n",
       "      <td>NaN</td>\n",
       "      <td>NaN</td>\n",
       "      <td>NaN</td>\n",
       "    </tr>\n",
       "    <tr>\n",
       "      <th>6695</th>\n",
       "      <td>zoo resort 3d</td>\n",
       "      <td>3DS</td>\n",
       "      <td>2011</td>\n",
       "      <td>SIMULATION</td>\n",
       "      <td>0.11</td>\n",
       "      <td>0.09</td>\n",
       "      <td>0.03</td>\n",
       "      <td>0.02</td>\n",
       "      <td>NaN</td>\n",
       "      <td>NaN</td>\n",
       "      <td>E</td>\n",
       "    </tr>\n",
       "    <tr>\n",
       "      <th>6696</th>\n",
       "      <td>zoo resort 3d</td>\n",
       "      <td>3DS</td>\n",
       "      <td>2011</td>\n",
       "      <td>SIMULATION</td>\n",
       "      <td>0.11</td>\n",
       "      <td>0.09</td>\n",
       "      <td>0.03</td>\n",
       "      <td>0.02</td>\n",
       "      <td>NaN</td>\n",
       "      <td>NaN</td>\n",
       "      <td>E</td>\n",
       "    </tr>\n",
       "    <tr>\n",
       "      <th>8156</th>\n",
       "      <td>zumba fitness rush</td>\n",
       "      <td>X360</td>\n",
       "      <td>2012</td>\n",
       "      <td>SPORTS</td>\n",
       "      <td>0.00</td>\n",
       "      <td>0.16</td>\n",
       "      <td>0.00</td>\n",
       "      <td>0.02</td>\n",
       "      <td>73.0</td>\n",
       "      <td>6.2</td>\n",
       "      <td>E10+</td>\n",
       "    </tr>\n",
       "    <tr>\n",
       "      <th>8157</th>\n",
       "      <td>zumba fitness rush</td>\n",
       "      <td>X360</td>\n",
       "      <td>2012</td>\n",
       "      <td>SPORTS</td>\n",
       "      <td>0.00</td>\n",
       "      <td>0.16</td>\n",
       "      <td>0.00</td>\n",
       "      <td>0.02</td>\n",
       "      <td>73.0</td>\n",
       "      <td>6.2</td>\n",
       "      <td>E10+</td>\n",
       "    </tr>\n",
       "  </tbody>\n",
       "</table>\n",
       "<p>472 rows × 11 columns</p>\n",
       "</div>"
      ],
      "text/plain": [
       "                                  name platform  year_of_release       genre  \\\n",
       "15301                 11eyes crossover     X360             2009   ADVENTURE   \n",
       "15302                 11eyes crossover     X360             2009   ADVENTURE   \n",
       "4860   18 wheeler american pro trucker      PS2             2001      RACING   \n",
       "4861   18 wheeler american pro trucker      PS2             2001      RACING   \n",
       "13098                       4 elements       PC             2009      PUZZLE   \n",
       "...                                ...      ...              ...         ...   \n",
       "2909     yugioh the falsebound kingdom       GC             2002    STRATEGY   \n",
       "6695                     zoo resort 3d      3DS             2011  SIMULATION   \n",
       "6696                     zoo resort 3d      3DS             2011  SIMULATION   \n",
       "8156                zumba fitness rush     X360             2012      SPORTS   \n",
       "8157                zumba fitness rush     X360             2012      SPORTS   \n",
       "\n",
       "       na_sales  eu_sales  jp_sales  other_sales  critic_score  user_score  \\\n",
       "15301      0.00      0.00      0.02         0.00           NaN         NaN   \n",
       "15302      0.00      0.00      0.02         0.00           NaN         NaN   \n",
       "4860       0.20      0.15      0.00         0.05          61.0         5.7   \n",
       "4861       0.20      0.15      0.00         0.05          61.0         5.7   \n",
       "13098      0.00      0.04      0.00         0.01           NaN         7.4   \n",
       "...         ...       ...       ...          ...           ...         ...   \n",
       "2909       0.49      0.13      0.07         0.02           NaN         NaN   \n",
       "6695       0.11      0.09      0.03         0.02           NaN         NaN   \n",
       "6696       0.11      0.09      0.03         0.02           NaN         NaN   \n",
       "8156       0.00      0.16      0.00         0.02          73.0         6.2   \n",
       "8157       0.00      0.16      0.00         0.02          73.0         6.2   \n",
       "\n",
       "      rating  \n",
       "15301    NaN  \n",
       "15302    NaN  \n",
       "4860       E  \n",
       "4861       E  \n",
       "13098      E  \n",
       "...      ...  \n",
       "2909     NaN  \n",
       "6695       E  \n",
       "6696       E  \n",
       "8156    E10+  \n",
       "8157    E10+  \n",
       "\n",
       "[472 rows x 11 columns]"
      ]
     },
     "metadata": {},
     "output_type": "display_data"
    }
   ],
   "source": [
    "# 1. Проверка полных дубликатов (все столбцы совпадают)\n",
    "full_duplicates = games[games.duplicated(keep=False)]  # keep=False помечает все дубли\n",
    "print(f\"Найдено {len(full_duplicates)} полных дубликатов:\")\n",
    "\n",
    "if not full_duplicates.empty:\n",
    "    display(full_duplicates.sort_values(by='name'))  # Показываем дубликаты для проверки\n",
    "else:\n",
    "    print(\"Полных дубликатов не обнаружено\")\n",
    "\n",
    "# 2. Проверка частичных дубликатов (по ключевым столбцам)\n",
    "key_columns = ['name', 'platform', 'year_of_release']\n",
    "partial_duplicates = games[games.duplicated(subset=key_columns, keep=False)]\n",
    "print(f\"\\nНайдено {len(partial_duplicates)} дубликатов по названию+платформе+году:\")\n",
    "\n",
    "if not partial_duplicates.empty:\n",
    "    display(partial_duplicates.sort_values(by=key_columns))\n",
    "else:\n",
    "    print(\"Дубликатов по ключевым столбцам не обнаружено\")"
   ]
  },
  {
   "cell_type": "code",
   "execution_count": 14,
   "id": "2f61e076",
   "metadata": {
    "id": "2f61e076"
   },
   "outputs": [
    {
     "name": "stdout",
     "output_type": "stream",
     "text": [
      "\n",
      "Полные дубликаты удалены\n",
      "Частичные дубликаты удалены\n",
      "\n",
      "Итоговая проверка:\n",
      "Осталось записей: 16443\n",
      "Дубликатов по ключевым столбцам: 0\n"
     ]
    }
   ],
   "source": [
    "# 3. Удаление дубликатов (если нужно)\n",
    "if not full_duplicates.empty:\n",
    "    games = games.drop_duplicates()  # Удаляем полные дубли\n",
    "    print(\"\\nПолные дубликаты удалены\")\n",
    "    \n",
    "if not partial_duplicates.empty:\n",
    "    # Удаляем дубли, оставляя первую запись (можно изменить на last)\n",
    "    games = games.drop_duplicates(subset=key_columns, keep='first')\n",
    "    print(\"Частичные дубликаты удалены\")\n",
    "\n",
    "# 4. Проверка оставшихся дубликатов после очистки\n",
    "print(\"\\nИтоговая проверка:\")\n",
    "print(f\"Осталось записей: {len(games)}\")\n",
    "print(f\"Дубликатов по ключевым столбцам: {games.duplicated(subset=key_columns).sum()}\")"
   ]
  },
  {
   "cell_type": "markdown",
   "id": "54616bae",
   "metadata": {
    "id": "54616bae"
   },
   "source": [
    "- Напишите промежуточный вывод: укажите количество найденных дубликатов и действия по их обработке."
   ]
  },
  {
   "cell_type": "markdown",
   "id": "c584754c",
   "metadata": {
    "id": "8548f894"
   },
   "source": [
    "### Анализ и обработка дубликатов\n",
    "*Полные дубликаты* (совпадение всех столбцов):\n",
    "\n",
    "Найдено: 470 строк (вот пример: \"11eyes crossover\" для X360, 2009 года).\n",
    "\n",
    "Действия: Удалены с сохранением первой записи (keep='first').\n",
    "\n",
    "*Частичные дубликаты* (совпадение по ключевым столбцам: name + platform + year_of_release):\n",
    "\n",
    "Найдено: 472 строки (пример: \"18 wheeler american pro trucker\" для PS2, 2001 года).\n",
    "\n",
    "Действия: Удалены с сохранением первой записи. После обработки дубликатов не осталось."
   ]
  },
  {
   "cell_type": "markdown",
   "id": "72645ae9",
   "metadata": {
    "id": "72645ae9"
   },
   "source": [
    "- В процессе подготовки данных вы могли что-либо удалять, например строки с пропусками или ошибками, дубликаты и прочее. В этом случае посчитайте количество удалённых строк в абсолютном и относительном значениях."
   ]
  },
  {
   "cell_type": "markdown",
   "id": "65d30bf6",
   "metadata": {
    "id": "f9d8ee19"
   },
   "source": [
    "### Статистика по удалённым данным\n",
    "Общее количество записей до обработки: 16,956 строк.\n",
    "\n",
    "Удалено:\n",
    "\n",
    "Дубликаты: 470 строк (полные) + 472 строки (частичные) = 942 строки.\n",
    "\n",
    "Относительно: 942 / 16,956 ≈ 5.56% данных.\n",
    "\n",
    "Пропуски (из предыдущих этапов):\n",
    "\n",
    "Удалено 2 строки с пропусками в name и genre (0.01%).\n",
    "\n",
    "Итоговое количество записей: 16,443 строки."
   ]
  },
  {
   "cell_type": "markdown",
   "id": "47613d75",
   "metadata": {
    "id": "47613d75"
   },
   "source": [
    "- После проведения предобработки данных напишите общий промежуточный вывод."
   ]
  },
  {
   "cell_type": "markdown",
   "id": "352954e0",
   "metadata": {
    "id": "5166fdf8"
   },
   "source": [
    "Проведённые этапы обработки:\n",
    "\n",
    "Нормализация текстовых данных:\n",
    "\n",
    "Приведены к единому формату названия игр, платформ, жанров и рейтингов (нижний/верхний регистр, удаление спецсимволов).\n",
    "\n",
    "Устранены неявные дубликаты (например, Role-Playing → ROLE PLAYING).\n",
    "\n",
    "Обработка пропусков:\n",
    "\n",
    "Удалены 2 строки с отсутствующими значениями в name и genre.\n",
    "\n",
    "Пропуски в critic_score и user_score заполнены медианами по платформам.\n",
    "\n",
    "Типы данных:\n",
    "\n",
    "Числовые столбцы (sales, scores) преобразованы в float64.\n",
    "\n",
    "Год выпуска (year_of_release) приведён к int64.\n",
    "\n",
    "Категориальные данные (platform, genre, rating) оптимизированы через тип category.\n",
    "\n",
    "Удаление дубликатов:\n",
    "\n",
    "Удалено 942 строки (470 полных и 472 частичных дубликатов), что составило 5.56% данных. Данные стали чище без потери информации (сохранена хотя бы одна копия каждой уникальной записи).\n",
    "\n",
    "Уменьшение размера датасета на 5.56% не критично для анализа."
   ]
  },
  {
   "cell_type": "markdown",
   "id": "613f0eb0",
   "metadata": {
    "id": "613f0eb0"
   },
   "source": [
    "---\n",
    "\n",
    "## 3. Фильтрация данных\n",
    "\n",
    "Коллеги хотят изучить историю продаж игр в начале XXI века, и их интересует период с 2000 по 2013 год включительно. Отберите данные по этому показателю. Сохраните новый срез данных в отдельном датафрейме, например `df_actual`."
   ]
  },
  {
   "cell_type": "code",
   "execution_count": 15,
   "id": "2344916d",
   "metadata": {
    "id": "2344916d"
   },
   "outputs": [
    {
     "name": "stdout",
     "output_type": "stream",
     "text": [
      "Количество записей в отфильтрованном датафрейме: 12780\n",
      "Годы в отфильтрованных данных: от 2000 до 2013\n"
     ]
    }
   ],
   "source": [
    "# Фильтрация данных по году выпуска (2000-2013 включительно)\n",
    "df_actual = games.query('2000 <= year_of_release <= 2013').copy()\n",
    "\n",
    "# Проверка результата\n",
    "print(f\"Количество записей в отфильтрованном датафрейме: {len(df_actual)}\")\n",
    "print(f\"Годы в отфильтрованных данных: от {df_actual['year_of_release'].min()} до {df_actual['year_of_release'].max()}\")"
   ]
  },
  {
   "cell_type": "code",
   "execution_count": 16,
   "id": "44d7529f",
   "metadata": {
    "id": "44d7529f"
   },
   "outputs": [
    {
     "name": "stdout",
     "output_type": "stream",
     "text": [
      "\n",
      "Распределение записей по годам:\n",
      "2000     350\n",
      "2001     482\n",
      "2002     829\n",
      "2003     775\n",
      "2004     762\n",
      "2005     939\n",
      "2006    1006\n",
      "2007    1197\n",
      "2008    1427\n",
      "2009    1426\n",
      "2010    1255\n",
      "2011    1136\n",
      "2012     652\n",
      "2013     544\n",
      "Name: year_of_release, dtype: int64\n"
     ]
    }
   ],
   "source": [
    "# Посмотрим распределение по годам\n",
    "print(\"\\nРаспределение записей по годам:\")\n",
    "print(df_actual['year_of_release'].value_counts().sort_index())"
   ]
  },
  {
   "cell_type": "markdown",
   "id": "a6f10b01",
   "metadata": {
    "id": "a6f10b01"
   },
   "source": [
    "---\n",
    "\n",
    "## 4. Категоризация данных\n",
    "    \n",
    "Проведите категоризацию данных:\n",
    "- Разделите все игры по оценкам пользователей и выделите такие категории: высокая оценка (от 8 до 10 включительно), средняя оценка (от 3 до 8, не включая правую границу интервала) и низкая оценка (от 0 до 3, не включая правую границу интервала)."
   ]
  },
  {
   "cell_type": "code",
   "execution_count": 17,
   "id": "3db87229",
   "metadata": {
    "id": "3db87229"
   },
   "outputs": [
    {
     "name": "stdout",
     "output_type": "stream",
     "text": [
      "Распределение игр по категориям оценок:\n",
      "Низкая оценка      116\n",
      "Средняя оценка    4080\n",
      "Высокая оценка    2286\n",
      "Не оценено        6298\n",
      "Name: score_category, dtype: int64\n",
      "\n",
      "Процентное соотношение категорий:\n",
      "Низкая оценка      0.9\n",
      "Средняя оценка    31.9\n",
      "Высокая оценка    17.9\n",
      "Не оценено        49.3\n",
      "Name: score_category, dtype: float64\n"
     ]
    }
   ],
   "source": [
    "# Категоризация оценок пользователей\n",
    "bins = [-0.1, 3, 8, 10]  # Границы интервалов (0-3, 3-8, 8-10)\n",
    "labels = ['Низкая оценка', 'Средняя оценка', 'Высокая оценка']  # Метки категорий\n",
    "\n",
    "# Создаем категории с помощью pd.cut()\n",
    "df_actual['score_category'] = pd.cut(\n",
    "    df_actual['user_score'],\n",
    "    bins=bins,\n",
    "    labels=labels,\n",
    "    right=False,  # Не включаем правую границу\n",
    "    include_lowest=True  # Включаем нижнюю границу\n",
    ")\n",
    "\n",
    "# Заменяем NaN на \"Не оценено\"\n",
    "df_actual['score_category'] = df_actual['score_category'].cat.add_categories('Не оценено').fillna('Не оценено')\n",
    "\n",
    "# Проверяем распределение категорий\n",
    "print(\"Распределение игр по категориям оценок:\")\n",
    "print(df_actual['score_category'].value_counts().sort_index())\n",
    "\n",
    "# Процентное соотношение\n",
    "print(\"\\nПроцентное соотношение категорий:\")\n",
    "print(df_actual['score_category'].value_counts(normalize=True).sort_index().round(3) * 100)"
   ]
  },
  {
   "cell_type": "markdown",
   "id": "31266939",
   "metadata": {
    "id": "e3f7acb0"
   },
   "source": [
    "- Разделите все игры по оценкам критиков и выделите такие категории: высокая оценка (от 80 до 100 включительно), средняя оценка (от 30 до 80, не включая правую границу интервала) и низкая оценка (от 0 до 30, не включая правую границу интервала)."
   ]
  },
  {
   "cell_type": "code",
   "execution_count": 18,
   "id": "548fde17",
   "metadata": {
    "id": "548fde17"
   },
   "outputs": [
    {
     "name": "stdout",
     "output_type": "stream",
     "text": [
      "Распределение игр по категориям оценок критиков:\n",
      "Низкая оценка       55\n",
      "Средняя оценка    5422\n",
      "Высокая оценка    1691\n",
      "Не оценено        5612\n",
      "Name: critic_category, dtype: int64\n",
      "\n",
      "Процентное соотношение категорий:\n",
      "Низкая оценка      0.4\n",
      "Средняя оценка    42.4\n",
      "Высокая оценка    13.2\n",
      "Не оценено        43.9\n",
      "Name: critic_category, dtype: float64\n"
     ]
    }
   ],
   "source": [
    "# Категоризация оценок критиков\n",
    "bins = [-0.1, 30, 80, 100]  # Границы интервалов (0-30, 30-80, 80-100)\n",
    "labels = ['Низкая оценка', 'Средняя оценка', 'Высокая оценка']  # Метки категорий\n",
    "\n",
    "# Создаем категории с помощью pd.cut()\n",
    "df_actual['critic_category'] = pd.cut(\n",
    "    df_actual['critic_score'],\n",
    "    bins=bins,\n",
    "    labels=labels,\n",
    "    right=False,  # Не включаем правую границу\n",
    "    include_lowest=True  # Включаем нижнюю границу\n",
    ")\n",
    "\n",
    "# Заменяем NaN на \"Не оценено\"\n",
    "df_actual['critic_category'] = df_actual['critic_category'].cat.add_categories('Не оценено').fillna('Не оценено')\n",
    "\n",
    "# Проверяем распределение категорий\n",
    "print(\"Распределение игр по категориям оценок критиков:\")\n",
    "print(df_actual['critic_category'].value_counts().sort_index())\n",
    "\n",
    "# Процентное соотношение\n",
    "print(\"\\nПроцентное соотношение категорий:\")\n",
    "print(df_actual['critic_category'].value_counts(normalize=True).sort_index().round(3) * 100)"
   ]
  },
  {
   "cell_type": "markdown",
   "id": "olkTlTlAUDR9",
   "metadata": {
    "id": "olkTlTlAUDR9"
   },
   "source": [
    "- После категоризации данных проверьте результат: сгруппируйте данные по выделенным категориям и посчитайте количество игр в каждой категории."
   ]
  },
  {
   "cell_type": "code",
   "execution_count": 19,
   "id": "HW0Nsp-4UMSL",
   "metadata": {
    "id": "HW0Nsp-4UMSL"
   },
   "outputs": [
    {
     "name": "stdout",
     "output_type": "stream",
     "text": [
      "Распределение по пользовательским оценкам:\n",
      "   score_category  Количество игр\n",
      "0   Низкая оценка             116\n",
      "1  Средняя оценка            4080\n",
      "2  Высокая оценка            2286\n",
      "3      Не оценено            6298\n",
      "\n",
      "Распределение по оценкам критиков:\n",
      "  critic_category  Количество игр\n",
      "0   Низкая оценка              55\n",
      "1  Средняя оценка            5422\n",
      "2  Высокая оценка            1691\n",
      "3      Не оценено            5612\n",
      "\n",
      "Сводная таблица распределения:\n",
      "critic_category  Низкая оценка  Средняя оценка  Высокая оценка  Не оценено  \\\n",
      "score_category                                                               \n",
      "Низкая оценка               17              77               1          21   \n",
      "Средняя оценка              30            3157             640         253   \n",
      "Высокая оценка               1            1167            1017         101   \n",
      "Не оценено                   7            1021              33        5237   \n",
      "Всего                       55            5422            1691        5612   \n",
      "\n",
      "critic_category  Всего  \n",
      "score_category          \n",
      "Низкая оценка      116  \n",
      "Средняя оценка    4080  \n",
      "Высокая оценка    2286  \n",
      "Не оценено        6298  \n",
      "Всего            12780  \n"
     ]
    }
   ],
   "source": [
    "# Группировка по категориям пользовательских оценок\n",
    "user_score_groups = df_actual.groupby('score_category').size().reset_index(name='Количество игр')\n",
    "print(\"Распределение по пользовательским оценкам:\")\n",
    "print(user_score_groups)\n",
    "\n",
    "# Группировка по категориям оценок критиков\n",
    "critic_score_groups = df_actual.groupby('critic_category').size().reset_index(name='Количество игр')\n",
    "print(\"\\nРаспределение по оценкам критиков:\")\n",
    "print(critic_score_groups)\n",
    "\n",
    "# Дополнительно: сводная таблица по обоим типам оценок\n",
    "print(\"\\nСводная таблица распределения:\")\n",
    "print(pd.crosstab(df_actual['score_category'], \n",
    "                 df_actual['critic_category'],\n",
    "                 margins=True, margins_name=\"Всего\"))"
   ]
  },
  {
   "cell_type": "markdown",
   "id": "6a98444c",
   "metadata": {
    "id": "6a98444c"
   },
   "source": [
    "- Выделите топ-7 платформ по количеству игр, выпущенных за весь актуальный период."
   ]
  },
  {
   "cell_type": "code",
   "execution_count": 20,
   "id": "003caa2c",
   "metadata": {
    "id": "003caa2c"
   },
   "outputs": [
    {
     "name": "stdout",
     "output_type": "stream",
     "text": [
      "Топ-7 платформ по количеству выпущенных игр (2000-2013):\n",
      "--------------------------------------------------\n",
      "Платформа  |  Количество игр\n",
      "--------------------------------------------------\n",
      "PS2        |            2127\n",
      "DS         |            2120\n",
      "WII        |            1275\n",
      "PSP        |            1180\n",
      "X360       |            1121\n",
      "PS3        |            1086\n",
      "GBA        |             811\n",
      "--------------------------------------------------\n",
      "Всего игр в топ-7: 9720\n",
      "Доля от общего числа: 76.1%\n"
     ]
    }
   ],
   "source": [
    "# Получаем топ-7 платформ по количеству игр\n",
    "top_platforms = df_actual['platform'].value_counts().head(7)\n",
    "\n",
    "# Форматируем вывод в виде таблицы\n",
    "print(\"Топ-7 платформ по количеству выпущенных игр (2000-2013):\")\n",
    "print(\"-\" * 50)\n",
    "print(f\"{'Платформа':<10} | {'Количество игр':>15}\")\n",
    "print(\"-\" * 50)\n",
    "for platform, count in top_platforms.items():\n",
    "    print(f\"{platform:<10} | {count:>15}\")\n",
    "print(\"-\" * 50)\n",
    "print(f\"Всего игр в топ-7: {top_platforms.sum()}\")\n",
    "print(f\"Доля от общего числа: {top_platforms.sum()/len(df_actual)*100:.1f}%\")"
   ]
  },
  {
   "cell_type": "markdown",
   "id": "c0158881",
   "metadata": {
    "id": "c0158881"
   },
   "source": [
    "---\n",
    "\n",
    "## 5. Итоговый вывод\n",
    "\n",
    "В конце напишите основной вывод и отразите, какую работу проделали. Не забудьте указать описание среза данных и новых полей, которые добавили в исходный датасет."
   ]
  },
  {
   "cell_type": "markdown",
   "id": "0f6fca91",
   "metadata": {
    "id": "20175f5b"
   },
   "source": [
    "1. Проделанная работа:\n",
    "Предобработка данных:\n",
    "\n",
    "Нормализация текстовых полей (приведение к единому регистру, удаление спецсимволов, приведение названий полей к змеинному типу).\n",
    "\n",
    "Обработка пропусков:\n",
    "\n",
    "Удалены 2 строки с отсутствующими названиями игр и жанрами.\n",
    "\n",
    "Пропуски в оценках заполнены медианными значениями по платформам.\n",
    "\n",
    "Удаление дубликатов: исключено 942 строки (5.6% данных).\n",
    "\n",
    "Категоризация оценок:\n",
    "\n",
    "Пользовательские оценки (0-10):\n",
    "\n",
    "Высокие (8-10): 17.9% игр.\n",
    "\n",
    "Средние (3-8): 31.9%.\n",
    "\n",
    "Низкие (0-3): 0.9%.\n",
    "\n",
    "Не оценено: 49.3%.\n",
    "\n",
    "Оценки критиков (0-100):\n",
    "\n",
    "Высокие (80-100): 13.2%.\n",
    "\n",
    "Средние (30-80): 42.4%.\n",
    "\n",
    "Низкие (0-30): 0.4%.\n",
    "\n",
    "Не оценено: 43.9%.\n",
    "\n",
    "Анализ платформ:\n",
    "\n",
    "Топ-7 платформ по количеству игр (76.1% от общего числа):\n",
    "\n",
    "PS2 (2127 игр), DS (2120), WII (1275), PSP (1180), X360 (1121), PS3 (1086), GBA (811).\n",
    "\n",
    "2. Ключевые изменения в данных:\n",
    "Добавленные поля:\n",
    "\n",
    "score_category — категория пользовательской оценки.\n",
    "\n",
    "critic_category — категория оценки критиков.\n",
    "\n",
    "Срез данных:\n",
    "\n",
    "Период: 2000-2013 годы.\n",
    "\n",
    "Исходно: 16,956 записей → После обработки: 12,780 записей.\n",
    "\n",
    "3. Основные выводы:\n",
    "Лидеры рынка:\n",
    "\n",
    "PS2 и DS доминируют по количеству выпущенных игр, что отражает их популярность в 2000-х.\n",
    "\n",
    "Консоли Nintendo (WII, DS, GBA) и Sony (PS2, PSP, PS3) составляют основу рынка.\n",
    "\n",
    "Оценки игр:\n",
    "\n",
    "Критики ставят высокие оценки реже (13.2%), чем пользователи (17.9%).\n",
    "\n",
    "Почти половина игр не имеет пользовательских оценок (49.3%), что может указывать на нишевые или малоизвестные проекты.\n",
    "\n",
    "4. Заключение:\n",
    "Подготовленный датасет теперь содержит:\n",
    "\n",
    "Чистые (без дубликатов и аномалий) и структурированные данные.\n",
    "\n",
    "Новые категориальные поля для анализа оценок.\n",
    "\n",
    "Релевантный срез за актуальный период (2000-2013 гг.)."
   ]
  }
 ],
 "metadata": {
  "ExecuteTimeLog": [
   {
    "duration": 429,
    "start_time": "2025-07-09T06:30:45.810Z"
   },
   {
    "duration": 3,
    "start_time": "2025-07-09T06:32:38.306Z"
   },
   {
    "duration": 160,
    "start_time": "2025-07-09T06:32:40.801Z"
   },
   {
    "duration": 3,
    "start_time": "2025-07-09T06:33:18.609Z"
   },
   {
    "duration": 17,
    "start_time": "2025-07-09T06:33:23.665Z"
   },
   {
    "duration": 22,
    "start_time": "2025-07-09T06:46:27.249Z"
   },
   {
    "duration": 19,
    "start_time": "2025-07-09T06:56:07.859Z"
   },
   {
    "duration": 53,
    "start_time": "2025-07-10T07:30:05.271Z"
   },
   {
    "duration": 7,
    "start_time": "2025-07-10T07:30:17.432Z"
   },
   {
    "duration": 98,
    "start_time": "2025-07-10T08:53:03.432Z"
   },
   {
    "duration": 7,
    "start_time": "2025-07-10T08:53:18.680Z"
   },
   {
    "duration": 7,
    "start_time": "2025-07-10T08:53:45.463Z"
   },
   {
    "duration": 7,
    "start_time": "2025-07-10T08:56:37.592Z"
   },
   {
    "duration": 9,
    "start_time": "2025-07-10T08:57:35.945Z"
   },
   {
    "duration": 6,
    "start_time": "2025-07-10T08:57:58.264Z"
   },
   {
    "duration": 7,
    "start_time": "2025-07-10T08:58:03.176Z"
   },
   {
    "duration": 7,
    "start_time": "2025-07-10T08:58:26.135Z"
   },
   {
    "duration": 8,
    "start_time": "2025-07-10T08:58:36.183Z"
   },
   {
    "duration": 459,
    "start_time": "2025-07-10T08:58:58.280Z"
   },
   {
    "duration": 2,
    "start_time": "2025-07-10T08:59:26.840Z"
   },
   {
    "duration": 135,
    "start_time": "2025-07-10T08:59:27.992Z"
   },
   {
    "duration": 2,
    "start_time": "2025-07-10T08:59:29.112Z"
   },
   {
    "duration": 3,
    "start_time": "2025-07-10T08:59:43.415Z"
   },
   {
    "duration": 93,
    "start_time": "2025-07-10T08:59:55.240Z"
   },
   {
    "duration": 3,
    "start_time": "2025-07-10T08:59:55.991Z"
   },
   {
    "duration": 18,
    "start_time": "2025-07-10T08:59:58.423Z"
   },
   {
    "duration": 28,
    "start_time": "2025-07-10T08:59:59.817Z"
   },
   {
    "duration": 8,
    "start_time": "2025-07-10T09:00:05.767Z"
   },
   {
    "duration": 17,
    "start_time": "2025-07-10T09:00:07.607Z"
   },
   {
    "duration": 17,
    "start_time": "2025-07-10T09:00:56.615Z"
   },
   {
    "duration": 396,
    "start_time": "2025-07-10T09:01:20.551Z"
   },
   {
    "duration": 240,
    "start_time": "2025-07-10T09:01:22.999Z"
   },
   {
    "duration": 19,
    "start_time": "2025-07-10T09:01:32.839Z"
   },
   {
    "duration": 31,
    "start_time": "2025-07-10T09:01:38.103Z"
   },
   {
    "duration": 17,
    "start_time": "2025-07-10T09:01:55.271Z"
   },
   {
    "duration": 16,
    "start_time": "2025-07-10T09:02:27.831Z"
   },
   {
    "duration": 17,
    "start_time": "2025-07-10T09:02:37.944Z"
   },
   {
    "duration": 16,
    "start_time": "2025-07-10T09:02:49.047Z"
   },
   {
    "duration": 399,
    "start_time": "2025-07-10T09:03:07.144Z"
   },
   {
    "duration": 117,
    "start_time": "2025-07-10T09:03:08.024Z"
   },
   {
    "duration": 18,
    "start_time": "2025-07-10T09:03:11.032Z"
   },
   {
    "duration": 26,
    "start_time": "2025-07-10T09:03:12.855Z"
   },
   {
    "duration": 17,
    "start_time": "2025-07-10T09:03:22.935Z"
   },
   {
    "duration": 11,
    "start_time": "2025-07-10T09:07:50.152Z"
   },
   {
    "duration": 77,
    "start_time": "2025-07-10T09:12:43.380Z"
   },
   {
    "duration": 27,
    "start_time": "2025-07-10T09:30:15.332Z"
   },
   {
    "duration": 10,
    "start_time": "2025-07-10T09:34:05.228Z"
   },
   {
    "duration": 446,
    "start_time": "2025-07-10T09:34:21.219Z"
   },
   {
    "duration": 97,
    "start_time": "2025-07-10T09:34:22.388Z"
   },
   {
    "duration": 18,
    "start_time": "2025-07-10T09:34:25.804Z"
   },
   {
    "duration": 27,
    "start_time": "2025-07-10T09:34:27.500Z"
   },
   {
    "duration": 16,
    "start_time": "2025-07-10T09:34:33.692Z"
   },
   {
    "duration": 11,
    "start_time": "2025-07-10T09:34:38.004Z"
   },
   {
    "duration": 23,
    "start_time": "2025-07-10T09:34:41.440Z"
   },
   {
    "duration": 435,
    "start_time": "2025-07-10T09:37:37.093Z"
   },
   {
    "duration": 112,
    "start_time": "2025-07-10T09:37:38.212Z"
   },
   {
    "duration": 18,
    "start_time": "2025-07-10T09:37:39.548Z"
   },
   {
    "duration": 28,
    "start_time": "2025-07-10T09:37:40.435Z"
   },
   {
    "duration": 18,
    "start_time": "2025-07-10T09:37:42.997Z"
   },
   {
    "duration": 15,
    "start_time": "2025-07-10T09:37:44.468Z"
   },
   {
    "duration": 27,
    "start_time": "2025-07-10T09:37:45.381Z"
   },
   {
    "duration": 20,
    "start_time": "2025-07-10T09:40:02.757Z"
   },
   {
    "duration": 9,
    "start_time": "2025-07-10T10:40:32.579Z"
   },
   {
    "duration": 470,
    "start_time": "2025-07-10T10:45:24.919Z"
   },
   {
    "duration": 6,
    "start_time": "2025-07-10T10:45:48.547Z"
   },
   {
    "duration": 81,
    "start_time": "2025-07-10T10:46:23.814Z"
   },
   {
    "duration": 15,
    "start_time": "2025-07-10T10:47:30.310Z"
   },
   {
    "duration": 13,
    "start_time": "2025-07-10T10:50:30.326Z"
   },
   {
    "duration": 14,
    "start_time": "2025-07-10T10:53:53.475Z"
   },
   {
    "duration": 27,
    "start_time": "2025-07-10T10:57:32.900Z"
   },
   {
    "duration": 7,
    "start_time": "2025-07-10T11:00:53.815Z"
   },
   {
    "duration": 157,
    "start_time": "2025-07-10T11:04:39.892Z"
   },
   {
    "duration": 66,
    "start_time": "2025-07-10T11:08:55.619Z"
   },
   {
    "duration": 45,
    "start_time": "2025-07-10T11:09:31.778Z"
   },
   {
    "duration": 434,
    "start_time": "2025-07-10T11:22:53.880Z"
   },
   {
    "duration": 107,
    "start_time": "2025-07-10T11:22:54.392Z"
   },
   {
    "duration": 18,
    "start_time": "2025-07-10T11:22:55.640Z"
   },
   {
    "duration": 27,
    "start_time": "2025-07-10T11:22:56.105Z"
   },
   {
    "duration": 16,
    "start_time": "2025-07-10T11:22:57.896Z"
   },
   {
    "duration": 10,
    "start_time": "2025-07-10T11:22:58.600Z"
   },
   {
    "duration": 23,
    "start_time": "2025-07-10T11:22:58.912Z"
   },
   {
    "duration": 18,
    "start_time": "2025-07-10T11:23:00.041Z"
   },
   {
    "duration": 13,
    "start_time": "2025-07-10T11:23:01.809Z"
   },
   {
    "duration": 11,
    "start_time": "2025-07-10T11:23:03.673Z"
   },
   {
    "duration": 6,
    "start_time": "2025-07-10T11:23:04.344Z"
   },
   {
    "duration": 121,
    "start_time": "2025-07-10T11:23:04.936Z"
   },
   {
    "duration": 64,
    "start_time": "2025-07-10T11:23:06.521Z"
   },
   {
    "duration": 31,
    "start_time": "2025-07-10T11:23:07.369Z"
   },
   {
    "duration": 14,
    "start_time": "2025-07-10T11:34:35.214Z"
   },
   {
    "duration": 5,
    "start_time": "2025-07-10T11:34:57.865Z"
   },
   {
    "duration": 75,
    "start_time": "2025-07-10T11:39:18.515Z"
   },
   {
    "duration": 16,
    "start_time": "2025-07-10T11:42:39.468Z"
   },
   {
    "duration": 13,
    "start_time": "2025-07-10T11:46:53.362Z"
   },
   {
    "duration": 55,
    "start_time": "2025-07-10T11:48:31.217Z"
   },
   {
    "duration": 11,
    "start_time": "2025-07-10T11:51:57.258Z"
   },
   {
    "duration": 436,
    "start_time": "2025-07-10T11:58:31.417Z"
   },
   {
    "duration": 108,
    "start_time": "2025-07-10T11:58:32.089Z"
   },
   {
    "duration": 18,
    "start_time": "2025-07-10T11:58:33.833Z"
   },
   {
    "duration": 38,
    "start_time": "2025-07-10T11:58:34.586Z"
   },
   {
    "duration": 17,
    "start_time": "2025-07-10T11:58:36.906Z"
   },
   {
    "duration": 10,
    "start_time": "2025-07-10T11:58:38.569Z"
   },
   {
    "duration": 27,
    "start_time": "2025-07-10T11:58:39.498Z"
   },
   {
    "duration": 19,
    "start_time": "2025-07-10T11:58:42.873Z"
   },
   {
    "duration": 19,
    "start_time": "2025-07-10T11:58:45.866Z"
   },
   {
    "duration": 13,
    "start_time": "2025-07-10T11:58:48.665Z"
   },
   {
    "duration": 7,
    "start_time": "2025-07-10T11:58:49.545Z"
   },
   {
    "duration": 122,
    "start_time": "2025-07-10T11:58:50.625Z"
   },
   {
    "duration": 69,
    "start_time": "2025-07-10T11:58:53.441Z"
   },
   {
    "duration": 31,
    "start_time": "2025-07-10T11:58:54.730Z"
   },
   {
    "duration": 10,
    "start_time": "2025-07-10T11:59:01.705Z"
   },
   {
    "duration": 5,
    "start_time": "2025-07-10T11:59:02.617Z"
   },
   {
    "duration": 23,
    "start_time": "2025-07-10T11:59:04.754Z"
   },
   {
    "duration": 15,
    "start_time": "2025-07-10T11:59:06.697Z"
   },
   {
    "duration": 57,
    "start_time": "2025-07-10T11:59:08.698Z"
   },
   {
    "duration": 10,
    "start_time": "2025-07-10T11:59:10.635Z"
   },
   {
    "duration": 244,
    "start_time": "2025-07-10T11:59:12.539Z"
   }
  ],
  "colab": {
   "provenance": []
  },
  "kernelspec": {
   "display_name": "Python 3 (ipykernel)",
   "language": "python",
   "name": "python3"
  },
  "language_info": {
   "codemirror_mode": {
    "name": "ipython",
    "version": 3
   },
   "file_extension": ".py",
   "mimetype": "text/x-python",
   "name": "python",
   "nbconvert_exporter": "python",
   "pygments_lexer": "ipython3",
   "version": "3.9.5"
  },
  "toc": {
   "base_numbering": 1,
   "nav_menu": {},
   "number_sections": true,
   "sideBar": true,
   "skip_h1_title": true,
   "title_cell": "Table of Contents",
   "title_sidebar": "Contents",
   "toc_cell": false,
   "toc_position": {},
   "toc_section_display": true,
   "toc_window_display": false
  }
 },
 "nbformat": 4,
 "nbformat_minor": 5
}
